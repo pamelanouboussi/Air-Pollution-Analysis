{
 "cells": [
  {
   "cell_type": "markdown",
   "id": "25991ab8",
   "metadata": {},
   "source": [
    "# 6.6 Analysing Time-Series Data:  Wrangling and cleaning time series data\n",
    "\n",
    "## Contents\n",
    "\n",
    "## 1. Import libraries and files\n",
    "\n",
    "## 2. Subset 1: Are there any notable differences in polluntant levels between different years?\n",
    "### 2.1. Time series decomposition\n",
    "### 2.2. Testing for stationarity\n",
    "### 2.3. Stationarising the data\n",
    "## 3. Hypothesis 1 tests\n",
    "## 4. Hypothesis 2 tests\n"
   ]
  },
  {
   "cell_type": "markdown",
   "id": "7e07d729",
   "metadata": {},
   "source": [
    "# 1. Import libraries and files"
   ]
  },
  {
   "cell_type": "code",
   "execution_count": 1,
   "id": "d17cf6b8",
   "metadata": {},
   "outputs": [],
   "source": [
    "import quandl\n",
    "import pandas as pd\n",
    "import numpy as np\n",
    "import seaborn as sns\n",
    "import matplotlib\n",
    "import matplotlib.pyplot as plt\n",
    "import statsmodels.api as sm # Using .api imports the public access version of statsmodels, which is a library that handles \n",
    "# statistical models.\n",
    "import os\n",
    "import warnings # This is a library that handles warnings.\n",
    "\n",
    "warnings.filterwarnings(\"ignore\") # Disable deprecation warnings that could indicate, for instance, a suspended library or \n",
    "# feature. These are more relevant to developers and very seldom to analysts.\n",
    "\n",
    "plt.style.use('fivethirtyeight') # This is a styling option for how plots will appear. \n"
   ]
  },
  {
   "cell_type": "code",
   "execution_count": 2,
   "id": "9393591b",
   "metadata": {},
   "outputs": [],
   "source": [
    "# Define the folder path as a string\n",
    "path = r'/Users/pamnouboussi/22.06.23 Achiev 6'"
   ]
  },
  {
   "cell_type": "code",
   "execution_count": 3,
   "id": "647fe585",
   "metadata": {},
   "outputs": [],
   "source": [
    "# Read the CSV file into a DataFrame and set the index column\n",
    "air_quality = pd.read_csv(os.path.join(path, 'Data', 'Prepared Data', 'air_quality_cleaned_updated_wrangled.csv'), index_col=0)"
   ]
  },
  {
   "cell_type": "markdown",
   "id": "d58f7634",
   "metadata": {},
   "source": [
    "Data overview"
   ]
  },
  {
   "cell_type": "code",
   "execution_count": 4,
   "id": "3f185b49",
   "metadata": {},
   "outputs": [
    {
     "name": "stdout",
     "output_type": "stream",
     "text": [
      "Europe (LMIC)\n",
      "Europe (HIC)\n",
      "Eastern Mediterranean (HIC)\n",
      "Americas (LMIC)\n",
      "Western Pacific (HIC)\n",
      "South-East Asia (LMIC)\n",
      "Americas (HIC)\n",
      "Western Pacific (LMIC)\n",
      "Africa (Sub-Saharan) (LMIC)\n",
      "Eastern Mediterranean (LMIC)\n"
     ]
    }
   ],
   "source": [
    "unique_regions = air_quality['Region'].unique()\n",
    "for region in unique_regions:\n",
    "    print(region)"
   ]
  },
  {
   "cell_type": "code",
   "execution_count": 5,
   "id": "1e66fdea",
   "metadata": {},
   "outputs": [
    {
     "data": {
      "text/html": [
       "<div>\n",
       "<style scoped>\n",
       "    .dataframe tbody tr th:only-of-type {\n",
       "        vertical-align: middle;\n",
       "    }\n",
       "\n",
       "    .dataframe tbody tr th {\n",
       "        vertical-align: top;\n",
       "    }\n",
       "\n",
       "    .dataframe thead th {\n",
       "        text-align: right;\n",
       "    }\n",
       "</style>\n",
       "<table border=\"1\" class=\"dataframe\">\n",
       "  <thead>\n",
       "    <tr style=\"text-align: right;\">\n",
       "      <th></th>\n",
       "      <th>Region</th>\n",
       "      <th>Country</th>\n",
       "      <th>City/Town</th>\n",
       "      <th>Year</th>\n",
       "      <th>Number and type of monitoring stations</th>\n",
       "      <th>PM2.5 Annual mean cleaned</th>\n",
       "      <th>PM10 Annual mean cleaned</th>\n",
       "      <th>Number of monitoring stations</th>\n",
       "      <th>Economic and Health Group</th>\n",
       "      <th>Geographical Proximity Group</th>\n",
       "    </tr>\n",
       "  </thead>\n",
       "  <tbody>\n",
       "    <tr>\n",
       "      <th>0</th>\n",
       "      <td>Europe (LMIC)</td>\n",
       "      <td>Albania</td>\n",
       "      <td>Korce</td>\n",
       "      <td>2015</td>\n",
       "      <td>1 Suburban-Background</td>\n",
       "      <td>30.0</td>\n",
       "      <td>45.0</td>\n",
       "      <td>1.0</td>\n",
       "      <td>LMIC with emerging health infrastructure</td>\n",
       "      <td>Europe</td>\n",
       "    </tr>\n",
       "    <tr>\n",
       "      <th>1</th>\n",
       "      <td>Europe (LMIC)</td>\n",
       "      <td>Albania</td>\n",
       "      <td>Korce</td>\n",
       "      <td>2016</td>\n",
       "      <td>1 Suburban-Background</td>\n",
       "      <td>29.0</td>\n",
       "      <td>40.0</td>\n",
       "      <td>1.0</td>\n",
       "      <td>LMIC with emerging health infrastructure</td>\n",
       "      <td>Europe</td>\n",
       "    </tr>\n",
       "    <tr>\n",
       "      <th>2</th>\n",
       "      <td>Europe (LMIC)</td>\n",
       "      <td>Albania</td>\n",
       "      <td>Tirana</td>\n",
       "      <td>2013</td>\n",
       "      <td>1 station, traffic, urban</td>\n",
       "      <td>16.0</td>\n",
       "      <td>32.0</td>\n",
       "      <td>1.0</td>\n",
       "      <td>LMIC with emerging health infrastructure</td>\n",
       "      <td>Europe</td>\n",
       "    </tr>\n",
       "    <tr>\n",
       "      <th>3</th>\n",
       "      <td>Europe (LMIC)</td>\n",
       "      <td>Albania</td>\n",
       "      <td>Vlore</td>\n",
       "      <td>2014</td>\n",
       "      <td>1 Urban-Background</td>\n",
       "      <td>10.0</td>\n",
       "      <td>15.0</td>\n",
       "      <td>1.0</td>\n",
       "      <td>LMIC with emerging health infrastructure</td>\n",
       "      <td>Europe</td>\n",
       "    </tr>\n",
       "    <tr>\n",
       "      <th>4</th>\n",
       "      <td>Europe (LMIC)</td>\n",
       "      <td>Albania</td>\n",
       "      <td>Vlore</td>\n",
       "      <td>2015</td>\n",
       "      <td>1 Urban-Background</td>\n",
       "      <td>13.0</td>\n",
       "      <td>19.0</td>\n",
       "      <td>1.0</td>\n",
       "      <td>LMIC with emerging health infrastructure</td>\n",
       "      <td>Europe</td>\n",
       "    </tr>\n",
       "  </tbody>\n",
       "</table>\n",
       "</div>"
      ],
      "text/plain": [
       "          Region  Country City/Town  Year  \\\n",
       "0  Europe (LMIC)  Albania     Korce  2015   \n",
       "1  Europe (LMIC)  Albania     Korce  2016   \n",
       "2  Europe (LMIC)  Albania    Tirana  2013   \n",
       "3  Europe (LMIC)  Albania     Vlore  2014   \n",
       "4  Europe (LMIC)  Albania     Vlore  2015   \n",
       "\n",
       "  Number and type of monitoring stations  PM2.5 Annual mean cleaned  \\\n",
       "0                  1 Suburban-Background                       30.0   \n",
       "1                  1 Suburban-Background                       29.0   \n",
       "2              1 station, traffic, urban                       16.0   \n",
       "3                     1 Urban-Background                       10.0   \n",
       "4                     1 Urban-Background                       13.0   \n",
       "\n",
       "   PM10 Annual mean cleaned  Number of monitoring stations  \\\n",
       "0                      45.0                            1.0   \n",
       "1                      40.0                            1.0   \n",
       "2                      32.0                            1.0   \n",
       "3                      15.0                            1.0   \n",
       "4                      19.0                            1.0   \n",
       "\n",
       "                  Economic and Health Group Geographical Proximity Group  \n",
       "0  LMIC with emerging health infrastructure                       Europe  \n",
       "1  LMIC with emerging health infrastructure                       Europe  \n",
       "2  LMIC with emerging health infrastructure                       Europe  \n",
       "3  LMIC with emerging health infrastructure                       Europe  \n",
       "4  LMIC with emerging health infrastructure                       Europe  "
      ]
     },
     "execution_count": 5,
     "metadata": {},
     "output_type": "execute_result"
    }
   ],
   "source": [
    "# Assuming your data is stored in a DataFrame called 'df'\n",
    "air_quality['Economic and Health Group'] = air_quality['Region'].map({\n",
    "    'Europe (LMIC)': 'LMIC with emerging health infrastructure',\n",
    "    'Europe (HIC)': 'HIC with relatively stable health infrastructure',\n",
    "    'Eastern Mediterranean (HIC)': 'HIC with relatively stable health infrastructure',\n",
    "    'Americas (LMIC)': 'LMIC with emerging health infrastructure',\n",
    "    'Western Pacific (HIC)': 'HIC with relatively stable health infrastructure',\n",
    "    'South-East Asia (LMIC)': 'LMIC with emerging health infrastructure',\n",
    "    'Americas (HIC)': 'HIC with relatively stable health infrastructure',\n",
    "    'Western Pacific (LMIC)': 'LMIC with emerging health infrastructure',\n",
    "    'Africa (Sub-Saharan) (LMIC)': 'LMIC with high health challenges',\n",
    "    'Eastern Mediterranean (LMIC)': 'LMIC with emerging health infrastructure'\n",
    "})\n",
    "\n",
    "air_quality['Geographical Proximity Group'] = air_quality['Region'].map({\n",
    "    'Europe (HIC)': 'Europe',\n",
    "    'Europe (LMIC)': 'Europe',\n",
    "    'Americas (HIC)': 'Americas',\n",
    "    'Americas (LMIC)': 'Americas',\n",
    "    'Eastern Mediterranean (HIC)': 'Eastern Mediterranean',\n",
    "    'Eastern Mediterranean (LMIC)': 'Eastern Mediterranean',\n",
    "    'Western Pacific (HIC)': 'Western Pacific',\n",
    "    'Western Pacific (LMIC)': 'Western Pacific',\n",
    "    'Africa (Sub-Saharan) (LMIC)': 'Africa',\n",
    "    'South-East Asia (LMIC)': 'Asia'\n",
    "})\n",
    "\n",
    "# Print the updated DataFrame\n",
    "(air_quality.head())"
   ]
  },
  {
   "cell_type": "code",
   "execution_count": 6,
   "id": "4c6f733d",
   "metadata": {},
   "outputs": [
    {
     "data": {
      "text/html": [
       "<div>\n",
       "<style scoped>\n",
       "    .dataframe tbody tr th:only-of-type {\n",
       "        vertical-align: middle;\n",
       "    }\n",
       "\n",
       "    .dataframe tbody tr th {\n",
       "        vertical-align: top;\n",
       "    }\n",
       "\n",
       "    .dataframe thead th {\n",
       "        text-align: right;\n",
       "    }\n",
       "</style>\n",
       "<table border=\"1\" class=\"dataframe\">\n",
       "  <thead>\n",
       "    <tr style=\"text-align: right;\">\n",
       "      <th></th>\n",
       "      <th>Region</th>\n",
       "      <th>Country</th>\n",
       "      <th>City/Town</th>\n",
       "      <th>Year</th>\n",
       "      <th>Number and type of monitoring stations</th>\n",
       "      <th>PM2.5 Annual mean cleaned</th>\n",
       "      <th>PM10 Annual mean cleaned</th>\n",
       "      <th>Number of monitoring stations</th>\n",
       "      <th>Economic and Health Group</th>\n",
       "      <th>Geographical Proximity Group</th>\n",
       "    </tr>\n",
       "  </thead>\n",
       "  <tbody>\n",
       "    <tr>\n",
       "      <th>0</th>\n",
       "      <td>Europe (LMIC)</td>\n",
       "      <td>Albania</td>\n",
       "      <td>Korce</td>\n",
       "      <td>2015</td>\n",
       "      <td>1 Suburban-Background</td>\n",
       "      <td>30.0</td>\n",
       "      <td>45.0</td>\n",
       "      <td>1.0</td>\n",
       "      <td>LMIC with emerging health infrastructure</td>\n",
       "      <td>Europe</td>\n",
       "    </tr>\n",
       "    <tr>\n",
       "      <th>1</th>\n",
       "      <td>Europe (LMIC)</td>\n",
       "      <td>Albania</td>\n",
       "      <td>Korce</td>\n",
       "      <td>2016</td>\n",
       "      <td>1 Suburban-Background</td>\n",
       "      <td>29.0</td>\n",
       "      <td>40.0</td>\n",
       "      <td>1.0</td>\n",
       "      <td>LMIC with emerging health infrastructure</td>\n",
       "      <td>Europe</td>\n",
       "    </tr>\n",
       "    <tr>\n",
       "      <th>2</th>\n",
       "      <td>Europe (LMIC)</td>\n",
       "      <td>Albania</td>\n",
       "      <td>Tirana</td>\n",
       "      <td>2013</td>\n",
       "      <td>1 station, traffic, urban</td>\n",
       "      <td>16.0</td>\n",
       "      <td>32.0</td>\n",
       "      <td>1.0</td>\n",
       "      <td>LMIC with emerging health infrastructure</td>\n",
       "      <td>Europe</td>\n",
       "    </tr>\n",
       "    <tr>\n",
       "      <th>3</th>\n",
       "      <td>Europe (LMIC)</td>\n",
       "      <td>Albania</td>\n",
       "      <td>Vlore</td>\n",
       "      <td>2014</td>\n",
       "      <td>1 Urban-Background</td>\n",
       "      <td>10.0</td>\n",
       "      <td>15.0</td>\n",
       "      <td>1.0</td>\n",
       "      <td>LMIC with emerging health infrastructure</td>\n",
       "      <td>Europe</td>\n",
       "    </tr>\n",
       "    <tr>\n",
       "      <th>4</th>\n",
       "      <td>Europe (LMIC)</td>\n",
       "      <td>Albania</td>\n",
       "      <td>Vlore</td>\n",
       "      <td>2015</td>\n",
       "      <td>1 Urban-Background</td>\n",
       "      <td>13.0</td>\n",
       "      <td>19.0</td>\n",
       "      <td>1.0</td>\n",
       "      <td>LMIC with emerging health infrastructure</td>\n",
       "      <td>Europe</td>\n",
       "    </tr>\n",
       "  </tbody>\n",
       "</table>\n",
       "</div>"
      ],
      "text/plain": [
       "          Region  Country City/Town  Year  \\\n",
       "0  Europe (LMIC)  Albania     Korce  2015   \n",
       "1  Europe (LMIC)  Albania     Korce  2016   \n",
       "2  Europe (LMIC)  Albania    Tirana  2013   \n",
       "3  Europe (LMIC)  Albania     Vlore  2014   \n",
       "4  Europe (LMIC)  Albania     Vlore  2015   \n",
       "\n",
       "  Number and type of monitoring stations  PM2.5 Annual mean cleaned  \\\n",
       "0                  1 Suburban-Background                       30.0   \n",
       "1                  1 Suburban-Background                       29.0   \n",
       "2              1 station, traffic, urban                       16.0   \n",
       "3                     1 Urban-Background                       10.0   \n",
       "4                     1 Urban-Background                       13.0   \n",
       "\n",
       "   PM10 Annual mean cleaned  Number of monitoring stations  \\\n",
       "0                      45.0                            1.0   \n",
       "1                      40.0                            1.0   \n",
       "2                      32.0                            1.0   \n",
       "3                      15.0                            1.0   \n",
       "4                      19.0                            1.0   \n",
       "\n",
       "                  Economic and Health Group Geographical Proximity Group  \n",
       "0  LMIC with emerging health infrastructure                       Europe  \n",
       "1  LMIC with emerging health infrastructure                       Europe  \n",
       "2  LMIC with emerging health infrastructure                       Europe  \n",
       "3  LMIC with emerging health infrastructure                       Europe  \n",
       "4  LMIC with emerging health infrastructure                       Europe  "
      ]
     },
     "execution_count": 6,
     "metadata": {},
     "output_type": "execute_result"
    }
   ],
   "source": [
    "air_quality.head()"
   ]
  },
  {
   "cell_type": "code",
   "execution_count": 7,
   "id": "bb8cafc6",
   "metadata": {},
   "outputs": [
    {
     "data": {
      "text/html": [
       "<div>\n",
       "<style scoped>\n",
       "    .dataframe tbody tr th:only-of-type {\n",
       "        vertical-align: middle;\n",
       "    }\n",
       "\n",
       "    .dataframe tbody tr th {\n",
       "        vertical-align: top;\n",
       "    }\n",
       "\n",
       "    .dataframe thead th {\n",
       "        text-align: right;\n",
       "    }\n",
       "</style>\n",
       "<table border=\"1\" class=\"dataframe\">\n",
       "  <thead>\n",
       "    <tr style=\"text-align: right;\">\n",
       "      <th></th>\n",
       "      <th>Region</th>\n",
       "      <th>Country</th>\n",
       "      <th>City/Town</th>\n",
       "      <th>Year</th>\n",
       "      <th>Number and type of monitoring stations</th>\n",
       "      <th>PM2.5 Annual mean cleaned</th>\n",
       "      <th>PM10 Annual mean cleaned</th>\n",
       "      <th>Number of monitoring stations</th>\n",
       "      <th>Economic and Health Group</th>\n",
       "      <th>Geographical Proximity Group</th>\n",
       "    </tr>\n",
       "  </thead>\n",
       "  <tbody>\n",
       "    <tr>\n",
       "      <th>0</th>\n",
       "      <td>Europe (LMIC)</td>\n",
       "      <td>Albania</td>\n",
       "      <td>Korce</td>\n",
       "      <td>2015</td>\n",
       "      <td>1 Suburban-Background</td>\n",
       "      <td>30.0</td>\n",
       "      <td>45.0</td>\n",
       "      <td>1.0</td>\n",
       "      <td>LMIC with emerging health infrastructure</td>\n",
       "      <td>Europe</td>\n",
       "    </tr>\n",
       "    <tr>\n",
       "      <th>1</th>\n",
       "      <td>Europe (LMIC)</td>\n",
       "      <td>Albania</td>\n",
       "      <td>Korce</td>\n",
       "      <td>2016</td>\n",
       "      <td>1 Suburban-Background</td>\n",
       "      <td>29.0</td>\n",
       "      <td>40.0</td>\n",
       "      <td>1.0</td>\n",
       "      <td>LMIC with emerging health infrastructure</td>\n",
       "      <td>Europe</td>\n",
       "    </tr>\n",
       "    <tr>\n",
       "      <th>2</th>\n",
       "      <td>Europe (LMIC)</td>\n",
       "      <td>Albania</td>\n",
       "      <td>Tirana</td>\n",
       "      <td>2013</td>\n",
       "      <td>1 station, traffic, urban</td>\n",
       "      <td>16.0</td>\n",
       "      <td>32.0</td>\n",
       "      <td>1.0</td>\n",
       "      <td>LMIC with emerging health infrastructure</td>\n",
       "      <td>Europe</td>\n",
       "    </tr>\n",
       "    <tr>\n",
       "      <th>3</th>\n",
       "      <td>Europe (LMIC)</td>\n",
       "      <td>Albania</td>\n",
       "      <td>Vlore</td>\n",
       "      <td>2014</td>\n",
       "      <td>1 Urban-Background</td>\n",
       "      <td>10.0</td>\n",
       "      <td>15.0</td>\n",
       "      <td>1.0</td>\n",
       "      <td>LMIC with emerging health infrastructure</td>\n",
       "      <td>Europe</td>\n",
       "    </tr>\n",
       "    <tr>\n",
       "      <th>4</th>\n",
       "      <td>Europe (LMIC)</td>\n",
       "      <td>Albania</td>\n",
       "      <td>Vlore</td>\n",
       "      <td>2015</td>\n",
       "      <td>1 Urban-Background</td>\n",
       "      <td>13.0</td>\n",
       "      <td>19.0</td>\n",
       "      <td>1.0</td>\n",
       "      <td>LMIC with emerging health infrastructure</td>\n",
       "      <td>Europe</td>\n",
       "    </tr>\n",
       "  </tbody>\n",
       "</table>\n",
       "</div>"
      ],
      "text/plain": [
       "          Region  Country City/Town  Year  \\\n",
       "0  Europe (LMIC)  Albania     Korce  2015   \n",
       "1  Europe (LMIC)  Albania     Korce  2016   \n",
       "2  Europe (LMIC)  Albania    Tirana  2013   \n",
       "3  Europe (LMIC)  Albania     Vlore  2014   \n",
       "4  Europe (LMIC)  Albania     Vlore  2015   \n",
       "\n",
       "  Number and type of monitoring stations  PM2.5 Annual mean cleaned  \\\n",
       "0                  1 Suburban-Background                       30.0   \n",
       "1                  1 Suburban-Background                       29.0   \n",
       "2              1 station, traffic, urban                       16.0   \n",
       "3                     1 Urban-Background                       10.0   \n",
       "4                     1 Urban-Background                       13.0   \n",
       "\n",
       "   PM10 Annual mean cleaned  Number of monitoring stations  \\\n",
       "0                      45.0                            1.0   \n",
       "1                      40.0                            1.0   \n",
       "2                      32.0                            1.0   \n",
       "3                      15.0                            1.0   \n",
       "4                      19.0                            1.0   \n",
       "\n",
       "                  Economic and Health Group Geographical Proximity Group  \n",
       "0  LMIC with emerging health infrastructure                       Europe  \n",
       "1  LMIC with emerging health infrastructure                       Europe  \n",
       "2  LMIC with emerging health infrastructure                       Europe  \n",
       "3  LMIC with emerging health infrastructure                       Europe  \n",
       "4  LMIC with emerging health infrastructure                       Europe  "
      ]
     },
     "execution_count": 7,
     "metadata": {},
     "output_type": "execute_result"
    }
   ],
   "source": [
    "air_quality.head()"
   ]
  },
  {
   "cell_type": "code",
   "execution_count": 5,
   "id": "82988ccc",
   "metadata": {},
   "outputs": [
    {
     "data": {
      "text/plain": [
       "(11959, 8)"
      ]
     },
     "execution_count": 5,
     "metadata": {},
     "output_type": "execute_result"
    }
   ],
   "source": [
    "air_quality.shape"
   ]
  },
  {
   "cell_type": "markdown",
   "id": "208c9b90",
   "metadata": {},
   "source": [
    "# 2. Subset 1 \n",
    "### - Are there any notable differences in pollutant levels between different years?"
   ]
  },
  {
   "cell_type": "code",
   "execution_count": 6,
   "id": "992733d0",
   "metadata": {},
   "outputs": [],
   "source": [
    "# convert year column datetime\n",
    "air_quality['Year'] = pd.to_datetime(air_quality['Year'], format='%Y')\n",
    "#set year as index\n",
    "air_quality.set_index('Year', inplace=True)"
   ]
  },
  {
   "cell_type": "code",
   "execution_count": 7,
   "id": "ca3c9792",
   "metadata": {},
   "outputs": [],
   "source": [
    "# create separate df for each polutant\n",
    "#the .copy() function is used to create a separate copy of df\n",
    "df_PM25 = air_quality[['PM2.5 Annual mean cleaned']].copy()\n",
    "df_PM10 =air_quality[['PM10 Annual mean cleaned']].copy()\n"
   ]
  },
  {
   "cell_type": "code",
   "execution_count": 8,
   "id": "f5341a8e",
   "metadata": {},
   "outputs": [
    {
     "data": {
      "text/html": [
       "<div>\n",
       "<style scoped>\n",
       "    .dataframe tbody tr th:only-of-type {\n",
       "        vertical-align: middle;\n",
       "    }\n",
       "\n",
       "    .dataframe tbody tr th {\n",
       "        vertical-align: top;\n",
       "    }\n",
       "\n",
       "    .dataframe thead th {\n",
       "        text-align: right;\n",
       "    }\n",
       "</style>\n",
       "<table border=\"1\" class=\"dataframe\">\n",
       "  <thead>\n",
       "    <tr style=\"text-align: right;\">\n",
       "      <th></th>\n",
       "      <th>PM2.5 Annual mean cleaned</th>\n",
       "    </tr>\n",
       "    <tr>\n",
       "      <th>Year</th>\n",
       "      <th></th>\n",
       "    </tr>\n",
       "  </thead>\n",
       "  <tbody>\n",
       "    <tr>\n",
       "      <th>2015-01-01</th>\n",
       "      <td>30.0</td>\n",
       "    </tr>\n",
       "    <tr>\n",
       "      <th>2016-01-01</th>\n",
       "      <td>29.0</td>\n",
       "    </tr>\n",
       "    <tr>\n",
       "      <th>2013-01-01</th>\n",
       "      <td>16.0</td>\n",
       "    </tr>\n",
       "    <tr>\n",
       "      <th>2014-01-01</th>\n",
       "      <td>10.0</td>\n",
       "    </tr>\n",
       "    <tr>\n",
       "      <th>2015-01-01</th>\n",
       "      <td>13.0</td>\n",
       "    </tr>\n",
       "  </tbody>\n",
       "</table>\n",
       "</div>"
      ],
      "text/plain": [
       "            PM2.5 Annual mean cleaned\n",
       "Year                                 \n",
       "2015-01-01                       30.0\n",
       "2016-01-01                       29.0\n",
       "2013-01-01                       16.0\n",
       "2014-01-01                       10.0\n",
       "2015-01-01                       13.0"
      ]
     },
     "execution_count": 8,
     "metadata": {},
     "output_type": "execute_result"
    }
   ],
   "source": [
    "df_PM25.head()"
   ]
  },
  {
   "cell_type": "code",
   "execution_count": 9,
   "id": "78334056",
   "metadata": {},
   "outputs": [],
   "source": [
    "# calcultae mean polutant level for each year\n",
    "df_PM25 = df_PM25.resample('Y').mean()\n",
    "df_PM10 = df_PM10.resample('Y').mean()\n"
   ]
  },
  {
   "cell_type": "code",
   "execution_count": 10,
   "id": "d2f3efb7",
   "metadata": {
    "scrolled": true
   },
   "outputs": [
    {
     "data": {
      "image/png": "[encoded data removed]",
      "text/plain": [
       "<Figure size 864x432 with 1 Axes>"
      ]
     },
     "metadata": {},
     "output_type": "display_data"
    }
   ],
   "source": [
    "#create line chart of data\n",
    "plt.figure(figsize=(12,6))\n",
    "plt.plot(df_PM25.index, df_PM25['PM2.5 Annual mean cleaned'], label='PM2.5')\n",
    "plt.plot(df_PM10.index, df_PM10['PM10 Annual mean cleaned'], label='PM10')\n",
    "plt.xlabel('Year')\n",
    "plt.ylabel('Annual Mean Cleaned')\n",
    "plt.title('Trends in Pollutant Levels')\n",
    "plt.legend()\n",
    "plt.show()\n"
   ]
  },
  {
   "cell_type": "markdown",
   "id": "01381b35",
   "metadata": {},
   "source": [
    "## 2.1 Time series decomposition\n",
    "Hypothesis\n",
    "H0 (Null Hypothesis): The PM2.5 and PM10 pollutant levels time series is non-stationary.\n",
    "\n",
    "H1 (Alternative Hypothesis): The PM2.5 and PM 10 pollutant levels time series is stationary."
   ]
  },
  {
   "cell_type": "code",
   "execution_count": 11,
   "id": "425a1e10",
   "metadata": {},
   "outputs": [],
   "source": [
    "from pylab import rcParams # This will define a fixed size for all special charts.\n",
    "\n",
    "rcParams['figure.figsize'] = 18, 7"
   ]
  },
  {
   "cell_type": "code",
   "execution_count": 12,
   "id": "f5be1d39",
   "metadata": {},
   "outputs": [
    {
     "data": {
      "image/png": "[encoded data removed]",
      "text/plain": [
       "<Figure size 1296x504 with 4 Axes>"
      ]
     },
     "metadata": {},
     "output_type": "display_data"
    }
   ],
   "source": [
    "# Decompose the time series\n",
    "decomposition_PM25 = sm.tsa.seasonal_decompose(df_PM25, model='additive')\n",
    "\n",
    "# Plot the separate components\n",
    "\n",
    "decomposition_PM25.plot()\n",
    "plt.show()\n"
   ]
  },
  {
   "cell_type": "markdown",
   "id": "176d5b73",
   "metadata": {},
   "source": [
    "#### - the data doesn’t have much noise (and, thus, didn’t need to be smoothed), the level and trend are the same.\n",
    "#### - there is no seaonality. this makes sence as these are yearly averages recordings. \n",
    "#### - there isnt much unsexplained noise in the data"
   ]
  },
  {
   "cell_type": "code",
   "execution_count": 13,
   "id": "f2e32211",
   "metadata": {},
   "outputs": [
    {
     "data": {
      "image/png": "[encoded data removed]",
      "text/plain": [
       "<Figure size 1296x504 with 4 Axes>"
      ]
     },
     "metadata": {},
     "output_type": "display_data"
    }
   ],
   "source": [
    "# Decompose the time series PM10\n",
    "decomposition_PM10 = sm.tsa.seasonal_decompose(df_PM25, model='additive')\n",
    "\n",
    "# Plot the separate components\n",
    "\n",
    "decomposition_PM10.plot()\n",
    "plt.show()"
   ]
  },
  {
   "cell_type": "markdown",
   "id": "c49c3667",
   "metadata": {},
   "source": [
    "## Testing for Stationarity"
   ]
  },
  {
   "cell_type": "code",
   "execution_count": 14,
   "id": "fc65a645",
   "metadata": {},
   "outputs": [
    {
     "name": "stdout",
     "output_type": "stream",
     "text": [
      "Results of Dickey-Fuller Test:\n",
      "Test Statistic                -0.357443\n",
      "p-value                        0.916966\n",
      "#Lags Used                     3.000000\n",
      "Number of Observations Used    6.000000\n",
      "Critical Value (1%)           -5.354256\n",
      "Critical Value (5%)           -3.646238\n",
      "Critical Value (10%)          -2.901198\n",
      "dtype: float64\n",
      "Results of Dickey-Fuller Test:\n",
      "Test Statistic                 0.261482\n",
      "p-value                        0.975507\n",
      "#Lags Used                     3.000000\n",
      "Number of Observations Used    6.000000\n",
      "Critical Value (1%)           -5.354256\n",
      "Critical Value (5%)           -3.646238\n",
      "Critical Value (10%)          -2.901198\n",
      "dtype: float64\n"
     ]
    }
   ],
   "source": [
    "from statsmodels.tsa.stattools import adfuller\n",
    "\n",
    "# Define a function to perform the test and print the results\n",
    "def adf_test(timeseries):\n",
    "    print('Results of Dickey-Fuller Test:')\n",
    "    dftest = adfuller(timeseries, autolag='AIC')\n",
    "    dfoutput = pd.Series(dftest[0:4], index=['Test Statistic', 'p-value', '#Lags Used', 'Number of Observations Used'])\n",
    "    for key, value in dftest[4].items():\n",
    "        dfoutput['Critical Value (%s)'%key] = value\n",
    "    print(dfoutput)\n",
    "\n",
    "# Test the PM2.5 data for stationarity\n",
    "adf_test(df_PM25['PM2.5 Annual mean cleaned'])\n",
    "\n",
    "# Test the PM10 data for stationarity\n",
    "adf_test(df_PM10['PM10 Annual mean cleaned'])\n"
   ]
  },
  {
   "cell_type": "markdown",
   "id": "16abe3ba",
   "metadata": {},
   "source": [
    "- PM2.5: Test Statistic (-0.357443) is greater than the Critical Values at the 1%, 5%, and 10% levels. The null hypothesis is not rejected , the series is non-stationary.\n",
    "- PM10: Test Statistic (0.261482) is greater than the Critical Values. Series non stationary"
   ]
  },
  {
   "cell_type": "code",
   "execution_count": 15,
   "id": "56a3f36b",
   "metadata": {},
   "outputs": [
    {
     "data": {
      "image/png": "[encoded data removed]",
      "text/plain": [
       "<Figure size 1296x504 with 1 Axes>"
      ]
     },
     "metadata": {},
     "output_type": "display_data"
    }
   ],
   "source": [
    "# Check out a plot of autocorrelations PM2.5\n",
    "\n",
    "from statsmodels.graphics.tsaplots import plot_acf, plot_pacf # Here, you import the autocorrelation and partial correlation plots\n",
    "\n",
    "plot_acf(df_PM25)\n",
    "plt.show()"
   ]
  },
  {
   "cell_type": "code",
   "execution_count": 16,
   "id": "813bb304",
   "metadata": {},
   "outputs": [
    {
     "data": {
      "image/png": "[encoded data removed]",
      "text/plain": [
       "<Figure size 1296x504 with 1 Axes>"
      ]
     },
     "metadata": {},
     "output_type": "display_data"
    }
   ],
   "source": [
    "#plot PM10\n",
    "plot_acf(df_PM10)\n",
    "plt.show()"
   ]
  },
  {
   "cell_type": "markdown",
   "id": "c3c955b2",
   "metadata": {},
   "source": [
    "\n",
    "### - the lags are mostly uncorelated with each other. Most lags are within this interval."
   ]
  },
  {
   "cell_type": "markdown",
   "id": "e7879dc1",
   "metadata": {},
   "source": [
    "## 2.2 Stationarising the data"
   ]
  },
  {
   "cell_type": "markdown",
   "id": "58c4f697",
   "metadata": {},
   "source": [
    "### PM2.5"
   ]
  },
  {
   "cell_type": "code",
   "execution_count": 17,
   "id": "05d67664",
   "metadata": {},
   "outputs": [
    {
     "name": "stdout",
     "output_type": "stream",
     "text": [
      "Year\n",
      "2009-12-31    10.333333\n",
      "2010-12-31   -22.391844\n",
      "2011-12-31     0.720611\n",
      "2012-12-31     5.512173\n",
      "2013-12-31    -9.064365\n",
      "Freq: A-DEC, Name: PM2.5 Annual mean cleaned, dtype: float64\n"
     ]
    }
   ],
   "source": [
    "# Perform a first-order differencing on the data. drop null values\n",
    "df_PM25_diff = df_PM25['PM2.5 Annual mean cleaned'].diff().dropna()\n",
    "\n",
    "# Display the result\n",
    "print(df_PM25_diff.head())\n"
   ]
  },
  {
   "cell_type": "code",
   "execution_count": 18,
   "id": "4408589a",
   "metadata": {},
   "outputs": [
    {
     "name": "stdout",
     "output_type": "stream",
     "text": [
      "Results of Dickey-Fuller Test:\n",
      "Test Statistic                 1.179236\n",
      "p-value                        0.995839\n",
      "#Lags Used                     2.000000\n",
      "Number of Observations Used    6.000000\n",
      "Critical Value (1%)           -5.354256\n",
      "Critical Value (5%)           -3.646238\n",
      "Critical Value (10%)          -2.901198\n",
      "dtype: float64\n"
     ]
    }
   ],
   "source": [
    "# Test the differenced data for stationarity\n",
    "adf_test(df_PM25_diff)\n"
   ]
  },
  {
   "cell_type": "code",
   "execution_count": 19,
   "id": "d39dc593",
   "metadata": {},
   "outputs": [
    {
     "name": "stdout",
     "output_type": "stream",
     "text": [
      "Results of Dickey-Fuller Test:\n",
      "Test Statistic                -7.348743e+00\n",
      "p-value                        1.019140e-10\n",
      "#Lags Used                     1.000000e+00\n",
      "Number of Observations Used    6.000000e+00\n",
      "Critical Value (1%)           -5.354256e+00\n",
      "Critical Value (5%)           -3.646238e+00\n",
      "Critical Value (10%)          -2.901198e+00\n",
      "dtype: float64\n"
     ]
    }
   ],
   "source": [
    "# Perform a second-order differencing on the data\n",
    "df_PM25_diff2 = df_PM25_diff.diff().dropna()\n",
    "\n",
    "# Test the differenced data for stationarity\n",
    "adf_test(df_PM25_diff2)\n"
   ]
  },
  {
   "cell_type": "markdown",
   "id": "edb6603c",
   "metadata": {},
   "source": [
    "### -  Test Statistic value (-7.348743e+00 or -7.35 when rounded) is less than the Critical Values at the 1%, 5%, and 10% levels. \n",
    "### - The p-value is low , which is well below the common threshold of 0.05. \n",
    "### - the null hypothesis can be rejected"
   ]
  },
  {
   "cell_type": "code",
   "execution_count": 20,
   "id": "78ee1050",
   "metadata": {},
   "outputs": [
    {
     "data": {
      "image/png": "[encoded data removed]",
      "text/plain": [
       "<Figure size 1296x504 with 1 Axes>"
      ]
     },
     "metadata": {},
     "output_type": "display_data"
    }
   ],
   "source": [
    "# plot autocorrelations\n",
    "plot_acf(df_PM25_diff2)\n",
    "plt.show()"
   ]
  },
  {
   "cell_type": "markdown",
   "id": "7bfde6b8",
   "metadata": {},
   "source": [
    "### PM10"
   ]
  },
  {
   "cell_type": "code",
   "execution_count": 21,
   "id": "21a3991b",
   "metadata": {},
   "outputs": [
    {
     "name": "stdout",
     "output_type": "stream",
     "text": [
      "Year\n",
      "2009-12-31    50.833333\n",
      "2010-12-31   -64.774823\n",
      "2011-12-31     1.966604\n",
      "2012-12-31    12.568247\n",
      "2013-12-31   -24.652062\n",
      "Freq: A-DEC, Name: PM10 Annual mean cleaned, dtype: float64\n"
     ]
    }
   ],
   "source": [
    "# Perform a first-order differencing on the data. drop null values\n",
    "df_PM10_diff = df_PM10['PM10 Annual mean cleaned'].diff().dropna()\n",
    "\n",
    "# Display the result\n",
    "print(df_PM10_diff.head())\n"
   ]
  },
  {
   "cell_type": "code",
   "execution_count": 22,
   "id": "d23c3b62",
   "metadata": {},
   "outputs": [
    {
     "name": "stdout",
     "output_type": "stream",
     "text": [
      "Results of Dickey-Fuller Test:\n",
      "Test Statistic                 4.988894\n",
      "p-value                        1.000000\n",
      "#Lags Used                     2.000000\n",
      "Number of Observations Used    6.000000\n",
      "Critical Value (1%)           -5.354256\n",
      "Critical Value (5%)           -3.646238\n",
      "Critical Value (10%)          -2.901198\n",
      "dtype: float64\n"
     ]
    }
   ],
   "source": [
    "# Test the differenced data for stationarity\n",
    "adf_test(df_PM10_diff)\n"
   ]
  },
  {
   "cell_type": "code",
   "execution_count": 23,
   "id": "d57d7033",
   "metadata": {},
   "outputs": [
    {
     "name": "stdout",
     "output_type": "stream",
     "text": [
      "Results of Dickey-Fuller Test:\n",
      "Test Statistic                 1.314103\n",
      "p-value                        0.996687\n",
      "#Lags Used                     2.000000\n",
      "Number of Observations Used    5.000000\n",
      "Critical Value (1%)           -6.045114\n",
      "Critical Value (5%)           -3.929280\n",
      "Critical Value (10%)          -2.986810\n",
      "dtype: float64\n"
     ]
    }
   ],
   "source": [
    "# Perform a second-order differencing on the data\n",
    "df_PM10_diff2 = df_PM10_diff.diff().dropna()\n",
    "\n",
    "# Test the differenced data for stationarity\n",
    "adf_test(df_PM10_diff2)\n"
   ]
  },
  {
   "cell_type": "markdown",
   "id": "689c6284",
   "metadata": {},
   "source": [
    "### -  the seriws is still non stationary"
   ]
  },
  {
   "cell_type": "code",
   "execution_count": 24,
   "id": "02f2250a",
   "metadata": {},
   "outputs": [
    {
     "data": {
      "image/png": "[encoded data removed]",
      "text/plain": [
       "<Figure size 1296x504 with 1 Axes>"
      ]
     },
     "metadata": {},
     "output_type": "display_data"
    }
   ],
   "source": [
    "# plot autocorrelations\n",
    "plot_acf(df_PM10_diff2)\n",
    "plt.show()"
   ]
  },
  {
   "attachments": {},
   "cell_type": "markdown",
   "id": "bb90886d",
   "metadata": {},
   "source": [
    "# INvestigating hypothesis\n",
    "### - Hypothesis 1: : There are significant differences in PM10 and PM2.5 pollutant levels across different years\n"
   ]
  },
  {
   "cell_type": "markdown",
   "id": "65cff389",
   "metadata": {},
   "source": [
    "Hypothesis 1 (ANOVA to compare pollutant levels across different years),"
   ]
  },
  {
   "cell_type": "code",
   "execution_count": 17,
   "id": "43a50fdc",
   "metadata": {},
   "outputs": [
    {
     "name": "stdout",
     "output_type": "stream",
     "text": [
      "PM2.5:\n",
      "F-value: 28.646535482467886\n",
      "P-value: 8.149248728187504e-50\n",
      "PM10:\n",
      "F-value: 53.97287690818147\n",
      "P-value: 6.863901984595835e-97\n"
     ]
    }
   ],
   "source": [
    "# Group the data by year\n",
    "grouped_data = air_quality.groupby('Year')\n",
    "\n",
    "# ANOVA for PM2.5\n",
    "fvalue, pvalue = stats.f_oneway(*[group['PM2.5 Annual mean cleaned'].dropna() for name, group in grouped_data])\n",
    "print('PM2.5:')\n",
    "print('F-value:', fvalue)\n",
    "print('P-value:', pvalue)\n",
    "\n",
    "# ANOVA for PM10\n",
    "fvalue, pvalue = stats.f_oneway(*[group['PM10 Annual mean cleaned'].dropna() for name, group in grouped_data])\n",
    "print('PM10:')\n",
    "print('F-value:', fvalue)\n",
    "print('P-value:', pvalue)\n"
   ]
  },
  {
   "cell_type": "markdown",
   "id": "acf9d7dc",
   "metadata": {},
   "source": [
    "#### Post-hoc Tukey HSD test"
   ]
  },
  {
   "cell_type": "code",
   "execution_count": 18,
   "id": "44345485",
   "metadata": {
    "scrolled": true
   },
   "outputs": [
    {
     "data": {
      "text/html": [
       "<table class=\"simpletable\">\n",
       "<caption>Multiple Comparison of Means - Tukey HSD, FWER=0.05</caption>\n",
       "<tr>\n",
       "  <th>group1</th> <th>group2</th> <th>meandiff</th>  <th>p-adj</th>   <th>lower</th>    <th>upper</th>  <th>reject</th>\n",
       "</tr>\n",
       "<tr>\n",
       "   <td>2008</td>   <td>2009</td>   <td>10.3333</td> <td>0.9975</td> <td>-27.6265</td>  <td>48.2931</td>  <td>False</td>\n",
       "</tr>\n",
       "<tr>\n",
       "   <td>2008</td>   <td>2010</td>  <td>-12.0585</td> <td>0.9843</td> <td>-46.5766</td>  <td>22.4596</td>  <td>False</td>\n",
       "</tr>\n",
       "<tr>\n",
       "   <td>2008</td>   <td>2011</td>  <td>-11.3379</td> <td>0.9898</td> <td>-45.8303</td>  <td>23.1545</td>  <td>False</td>\n",
       "</tr>\n",
       "<tr>\n",
       "   <td>2008</td>   <td>2012</td>   <td>-5.8257</td> <td>0.9999</td> <td>-40.2328</td>  <td>28.5814</td>  <td>False</td>\n",
       "</tr>\n",
       "<tr>\n",
       "   <td>2008</td>   <td>2013</td>  <td>-14.8901</td> <td>0.9359</td> <td>-49.2403</td>  <td>19.4601</td>  <td>False</td>\n",
       "</tr>\n",
       "<tr>\n",
       "   <td>2008</td>   <td>2014</td>  <td>-16.5343</td> <td>0.8832</td> <td>-50.8823</td>  <td>17.8136</td>  <td>False</td>\n",
       "</tr>\n",
       "<tr>\n",
       "   <td>2008</td>   <td>2015</td>   <td>-15.829</td> <td>0.9083</td>  <td>-50.177</td>  <td>18.5191</td>  <td>False</td>\n",
       "</tr>\n",
       "<tr>\n",
       "   <td>2008</td>   <td>2016</td>  <td>-14.7496</td> <td>0.9395</td> <td>-49.0971</td>  <td>19.5979</td>  <td>False</td>\n",
       "</tr>\n",
       "<tr>\n",
       "   <td>2008</td>   <td>2017</td>    <td>-8.0</td>   <td>0.9997</td> <td>-45.6131</td>  <td>29.6131</td>  <td>False</td>\n",
       "</tr>\n",
       "<tr>\n",
       "   <td>2009</td>   <td>2010</td>  <td>-22.3918</td> <td>0.0008</td> <td>-38.9609</td>  <td>-5.8228</td>  <td>True</td> \n",
       "</tr>\n",
       "<tr>\n",
       "   <td>2009</td>   <td>2011</td>  <td>-21.6712</td> <td>0.0014</td> <td>-38.1866</td>  <td>-5.1559</td>  <td>True</td> \n",
       "</tr>\n",
       "<tr>\n",
       "   <td>2009</td>   <td>2012</td>  <td>-16.1591</td> <td>0.0554</td> <td>-32.4956</td>  <td>0.1775</td>   <td>False</td>\n",
       "</tr>\n",
       "<tr>\n",
       "   <td>2009</td>   <td>2013</td>  <td>-25.2234</td>   <td>0.0</td>  <td>-41.4398</td>  <td>-9.007</td>   <td>True</td> \n",
       "</tr>\n",
       "<tr>\n",
       "   <td>2009</td>   <td>2014</td>  <td>-26.8677</td>   <td>0.0</td>  <td>-43.0793</td> <td>-10.6561</td>  <td>True</td> \n",
       "</tr>\n",
       "<tr>\n",
       "   <td>2009</td>   <td>2015</td>  <td>-26.1623</td>   <td>0.0</td>  <td>-42.3741</td>  <td>-9.9505</td>  <td>True</td> \n",
       "</tr>\n",
       "<tr>\n",
       "   <td>2009</td>   <td>2016</td>  <td>-25.0829</td>   <td>0.0</td>  <td>-41.2936</td>  <td>-8.8722</td>  <td>True</td> \n",
       "</tr>\n",
       "<tr>\n",
       "   <td>2009</td>   <td>2017</td>  <td>-18.3333</td> <td>0.2174</td> <td>-40.6444</td>  <td>3.9777</td>   <td>False</td>\n",
       "</tr>\n",
       "<tr>\n",
       "   <td>2010</td>   <td>2011</td>   <td>0.7206</td>    <td>1.0</td>   <td>-4.1073</td>  <td>5.5485</td>   <td>False</td>\n",
       "</tr>\n",
       "<tr>\n",
       "   <td>2010</td>   <td>2012</td>   <td>6.2328</td>  <td>0.0001</td>  <td>2.0574</td>   <td>10.4082</td>  <td>True</td> \n",
       "</tr>\n",
       "<tr>\n",
       "   <td>2010</td>   <td>2013</td>   <td>-2.8316</td> <td>0.3041</td>  <td>-6.509</td>   <td>0.8459</td>   <td>False</td>\n",
       "</tr>\n",
       "<tr>\n",
       "   <td>2010</td>   <td>2014</td>   <td>-4.4758</td> <td>0.0043</td>  <td>-8.1321</td>  <td>-0.8196</td>  <td>True</td> \n",
       "</tr>\n",
       "<tr>\n",
       "   <td>2010</td>   <td>2015</td>   <td>-3.7705</td>  <td>0.037</td>  <td>-7.4277</td>  <td>-0.1132</td>  <td>True</td> \n",
       "</tr>\n",
       "<tr>\n",
       "   <td>2010</td>   <td>2016</td>   <td>-2.6911</td> <td>0.3683</td>  <td>-6.3432</td>   <td>0.961</td>   <td>False</td>\n",
       "</tr>\n",
       "<tr>\n",
       "   <td>2010</td>   <td>2017</td>   <td>4.0585</td>  <td>0.9984</td> <td>-11.7001</td>  <td>19.8171</td>  <td>False</td>\n",
       "</tr>\n",
       "<tr>\n",
       "   <td>2011</td>   <td>2012</td>   <td>5.5122</td>  <td>0.0004</td>  <td>1.5551</td>   <td>9.4693</td>   <td>True</td> \n",
       "</tr>\n",
       "<tr>\n",
       "   <td>2011</td>   <td>2013</td>   <td>-3.5522</td>  <td>0.035</td>  <td>-6.9798</td>  <td>-0.1246</td>  <td>True</td> \n",
       "</tr>\n",
       "<tr>\n",
       "   <td>2011</td>   <td>2014</td>   <td>-5.1964</td> <td>0.0001</td>  <td>-8.6013</td>  <td>-1.7916</td>  <td>True</td> \n",
       "</tr>\n",
       "<tr>\n",
       "   <td>2011</td>   <td>2015</td>   <td>-4.4911</td> <td>0.0013</td>  <td>-7.8969</td>  <td>-1.0852</td>  <td>True</td> \n",
       "</tr>\n",
       "<tr>\n",
       "   <td>2011</td>   <td>2016</td>   <td>-3.4117</td> <td>0.0484</td>  <td>-6.812</td>   <td>-0.0113</td>  <td>True</td> \n",
       "</tr>\n",
       "<tr>\n",
       "   <td>2011</td>   <td>2017</td>   <td>3.3379</td>  <td>0.9997</td> <td>-12.3643</td>  <td>19.0401</td>  <td>False</td>\n",
       "</tr>\n",
       "<tr>\n",
       "   <td>2012</td>   <td>2013</td>   <td>-9.0644</td>   <td>0.0</td>  <td>-11.4879</td>  <td>-6.6408</td>  <td>True</td> \n",
       "</tr>\n",
       "<tr>\n",
       "   <td>2012</td>   <td>2014</td>  <td>-10.7086</td>   <td>0.0</td>  <td>-13.0999</td>  <td>-8.3174</td>  <td>True</td> \n",
       "</tr>\n",
       "<tr>\n",
       "   <td>2012</td>   <td>2015</td>  <td>-10.0032</td>   <td>0.0</td>   <td>-12.396</td>  <td>-7.6105</td>  <td>True</td> \n",
       "</tr>\n",
       "<tr>\n",
       "   <td>2012</td>   <td>2016</td>   <td>-8.9239</td>   <td>0.0</td>  <td>-11.3087</td>  <td>-6.539</td>   <td>True</td> \n",
       "</tr>\n",
       "<tr>\n",
       "   <td>2012</td>   <td>2017</td>   <td>-2.1743</td>   <td>1.0</td>  <td>-17.6882</td>  <td>13.3397</td>  <td>False</td>\n",
       "</tr>\n",
       "<tr>\n",
       "   <td>2013</td>   <td>2014</td>   <td>-1.6442</td> <td>0.0043</td>  <td>-2.9888</td>  <td>-0.2997</td>  <td>True</td> \n",
       "</tr>\n",
       "<tr>\n",
       "   <td>2013</td>   <td>2015</td>   <td>-0.9389</td>  <td>0.453</td>  <td>-2.286</td>   <td>0.4083</td>   <td>False</td>\n",
       "</tr>\n",
       "<tr>\n",
       "   <td>2013</td>   <td>2016</td>   <td>0.1405</td>    <td>1.0</td>   <td>-1.1927</td>  <td>1.4737</td>   <td>False</td>\n",
       "</tr>\n",
       "<tr>\n",
       "   <td>2013</td>   <td>2017</td>   <td>6.8901</td>  <td>0.9223</td>  <td>-8.4973</td>  <td>22.2775</td>  <td>False</td>\n",
       "</tr>\n",
       "<tr>\n",
       "   <td>2014</td>   <td>2015</td>   <td>0.7054</td>  <td>0.7769</td>  <td>-0.5828</td>  <td>1.9935</td>   <td>False</td>\n",
       "</tr>\n",
       "<tr>\n",
       "   <td>2014</td>   <td>2016</td>   <td>1.7848</td>  <td>0.0004</td>  <td>0.5112</td>   <td>3.0583</td>   <td>True</td> \n",
       "</tr>\n",
       "<tr>\n",
       "   <td>2014</td>   <td>2017</td>   <td>8.5343</td>  <td>0.7631</td>  <td>-6.848</td>   <td>23.9167</td>  <td>False</td>\n",
       "</tr>\n",
       "<tr>\n",
       "   <td>2015</td>   <td>2016</td>   <td>1.0794</td>  <td>0.1834</td>  <td>-0.1969</td>  <td>2.3557</td>   <td>False</td>\n",
       "</tr>\n",
       "<tr>\n",
       "   <td>2015</td>   <td>2017</td>    <td>7.829</td>  <td>0.8435</td>  <td>-7.5536</td>  <td>23.2116</td>  <td>False</td>\n",
       "</tr>\n",
       "<tr>\n",
       "   <td>2016</td>   <td>2017</td>   <td>6.7496</td>  <td>0.9311</td>  <td>-8.6318</td>  <td>22.131</td>   <td>False</td>\n",
       "</tr>\n",
       "</table>"
      ],
      "text/latex": [
       "\\begin{center}\n",
       "\\begin{tabular}{ccccccc}\n",
       "\\toprule\n",
       "\\textbf{group1} & \\textbf{group2} & \\textbf{meandiff} & \\textbf{p-adj} & \\textbf{lower} & \\textbf{upper} & \\textbf{reject}  \\\\\n",
       "\\midrule\n",
       "      2008      &       2009      &      10.3333      &     0.9975     &    -27.6265    &    48.2931     &      False       \\\\\n",
       "      2008      &       2010      &      -12.0585     &     0.9843     &    -46.5766    &    22.4596     &      False       \\\\\n",
       "      2008      &       2011      &      -11.3379     &     0.9898     &    -45.8303    &    23.1545     &      False       \\\\\n",
       "      2008      &       2012      &      -5.8257      &     0.9999     &    -40.2328    &    28.5814     &      False       \\\\\n",
       "      2008      &       2013      &      -14.8901     &     0.9359     &    -49.2403    &    19.4601     &      False       \\\\\n",
       "      2008      &       2014      &      -16.5343     &     0.8832     &    -50.8823    &    17.8136     &      False       \\\\\n",
       "      2008      &       2015      &      -15.829      &     0.9083     &    -50.177     &    18.5191     &      False       \\\\\n",
       "      2008      &       2016      &      -14.7496     &     0.9395     &    -49.0971    &    19.5979     &      False       \\\\\n",
       "      2008      &       2017      &        -8.0       &     0.9997     &    -45.6131    &    29.6131     &      False       \\\\\n",
       "      2009      &       2010      &      -22.3918     &     0.0008     &    -38.9609    &    -5.8228     &       True       \\\\\n",
       "      2009      &       2011      &      -21.6712     &     0.0014     &    -38.1866    &    -5.1559     &       True       \\\\\n",
       "      2009      &       2012      &      -16.1591     &     0.0554     &    -32.4956    &     0.1775     &      False       \\\\\n",
       "      2009      &       2013      &      -25.2234     &      0.0       &    -41.4398    &     -9.007     &       True       \\\\\n",
       "      2009      &       2014      &      -26.8677     &      0.0       &    -43.0793    &    -10.6561    &       True       \\\\\n",
       "      2009      &       2015      &      -26.1623     &      0.0       &    -42.3741    &    -9.9505     &       True       \\\\\n",
       "      2009      &       2016      &      -25.0829     &      0.0       &    -41.2936    &    -8.8722     &       True       \\\\\n",
       "      2009      &       2017      &      -18.3333     &     0.2174     &    -40.6444    &     3.9777     &      False       \\\\\n",
       "      2010      &       2011      &       0.7206      &      1.0       &    -4.1073     &     5.5485     &      False       \\\\\n",
       "      2010      &       2012      &       6.2328      &     0.0001     &     2.0574     &    10.4082     &       True       \\\\\n",
       "      2010      &       2013      &      -2.8316      &     0.3041     &     -6.509     &     0.8459     &      False       \\\\\n",
       "      2010      &       2014      &      -4.4758      &     0.0043     &    -8.1321     &    -0.8196     &       True       \\\\\n",
       "      2010      &       2015      &      -3.7705      &     0.037      &    -7.4277     &    -0.1132     &       True       \\\\\n",
       "      2010      &       2016      &      -2.6911      &     0.3683     &    -6.3432     &     0.961      &      False       \\\\\n",
       "      2010      &       2017      &       4.0585      &     0.9984     &    -11.7001    &    19.8171     &      False       \\\\\n",
       "      2011      &       2012      &       5.5122      &     0.0004     &     1.5551     &     9.4693     &       True       \\\\\n",
       "      2011      &       2013      &      -3.5522      &     0.035      &    -6.9798     &    -0.1246     &       True       \\\\\n",
       "      2011      &       2014      &      -5.1964      &     0.0001     &    -8.6013     &    -1.7916     &       True       \\\\\n",
       "      2011      &       2015      &      -4.4911      &     0.0013     &    -7.8969     &    -1.0852     &       True       \\\\\n",
       "      2011      &       2016      &      -3.4117      &     0.0484     &     -6.812     &    -0.0113     &       True       \\\\\n",
       "      2011      &       2017      &       3.3379      &     0.9997     &    -12.3643    &    19.0401     &      False       \\\\\n",
       "      2012      &       2013      &      -9.0644      &      0.0       &    -11.4879    &    -6.6408     &       True       \\\\\n",
       "      2012      &       2014      &      -10.7086     &      0.0       &    -13.0999    &    -8.3174     &       True       \\\\\n",
       "      2012      &       2015      &      -10.0032     &      0.0       &    -12.396     &    -7.6105     &       True       \\\\\n",
       "      2012      &       2016      &      -8.9239      &      0.0       &    -11.3087    &     -6.539     &       True       \\\\\n",
       "      2012      &       2017      &      -2.1743      &      1.0       &    -17.6882    &    13.3397     &      False       \\\\\n",
       "      2013      &       2014      &      -1.6442      &     0.0043     &    -2.9888     &    -0.2997     &       True       \\\\\n",
       "      2013      &       2015      &      -0.9389      &     0.453      &     -2.286     &     0.4083     &      False       \\\\\n",
       "      2013      &       2016      &       0.1405      &      1.0       &    -1.1927     &     1.4737     &      False       \\\\\n",
       "      2013      &       2017      &       6.8901      &     0.9223     &    -8.4973     &    22.2775     &      False       \\\\\n",
       "      2014      &       2015      &       0.7054      &     0.7769     &    -0.5828     &     1.9935     &      False       \\\\\n",
       "      2014      &       2016      &       1.7848      &     0.0004     &     0.5112     &     3.0583     &       True       \\\\\n",
       "      2014      &       2017      &       8.5343      &     0.7631     &     -6.848     &    23.9167     &      False       \\\\\n",
       "      2015      &       2016      &       1.0794      &     0.1834     &    -0.1969     &     2.3557     &      False       \\\\\n",
       "      2015      &       2017      &       7.829       &     0.8435     &    -7.5536     &    23.2116     &      False       \\\\\n",
       "      2016      &       2017      &       6.7496      &     0.9311     &    -8.6318     &     22.131     &      False       \\\\\n",
       "\\bottomrule\n",
       "\\end{tabular}\n",
       "%\\caption{Multiple Comparison of Means - Tukey HSD, FWER=0.05}\n",
       "\\end{center}"
      ],
      "text/plain": [
       "<class 'statsmodels.iolib.table.SimpleTable'>"
      ]
     },
     "execution_count": 18,
     "metadata": {},
     "output_type": "execute_result"
    }
   ],
   "source": [
    "from statsmodels.stats.multicomp import pairwise_tukeyhsd\n",
    "\n",
    "# For example, after the ANOVA test on PM2.5 across different years\n",
    "tukey = pairwise_tukeyhsd(endog=air_quality['PM2.5 Annual mean cleaned'].dropna(),  # Data\n",
    "                          groups=air_quality['Year'],  # Groups\n",
    "                          alpha=0.05)  # Significance level\n",
    "\n",
    "tukey.summary()\n"
   ]
  },
  {
   "cell_type": "markdown",
   "id": "dda95605",
   "metadata": {},
   "source": [
    "Regression analysis"
   ]
  },
  {
   "cell_type": "code",
   "execution_count": 19,
   "id": "926de2b3",
   "metadata": {},
   "outputs": [
    {
     "name": "stdout",
     "output_type": "stream",
     "text": [
      "                                OLS Regression Results                               \n",
      "=====================================================================================\n",
      "Dep. Variable:     PM2.5 Annual mean cleaned   R-squared:                       0.004\n",
      "Model:                                   OLS   Adj. R-squared:                  0.004\n",
      "Method:                        Least Squares   F-statistic:                     45.33\n",
      "Date:                       Sun, 09 Jul 2023   Prob (F-statistic):           1.74e-11\n",
      "Time:                               19:55:17   Log-Likelihood:                -49727.\n",
      "No. Observations:                      11959   AIC:                         9.946e+04\n",
      "Df Residuals:                          11957   BIC:                         9.947e+04\n",
      "Df Model:                                  1                                         \n",
      "Covariance Type:                   nonrobust                                         \n",
      "==============================================================================\n",
      "                 coef    std err          t      P>|t|      [0.025      0.975]\n",
      "------------------------------------------------------------------------------\n",
      "const       1399.7871    205.238      6.820      0.000     997.488    1802.086\n",
      "Year          -0.6860      0.102     -6.732      0.000      -0.886      -0.486\n",
      "==============================================================================\n",
      "Omnibus:                     9317.422   Durbin-Watson:                   0.384\n",
      "Prob(Omnibus):                  0.000   Jarque-Bera (JB):           212253.349\n",
      "Skew:                           3.636   Prob(JB):                         0.00\n",
      "Kurtosis:                      22.316   Cond. No.                     2.92e+06\n",
      "==============================================================================\n",
      "\n",
      "Notes:\n",
      "[1] Standard Errors assume that the covariance matrix of the errors is correctly specified.\n",
      "[2] The condition number is large, 2.92e+06. This might indicate that there are\n",
      "strong multicollinearity or other numerical problems.\n",
      "                               OLS Regression Results                               \n",
      "====================================================================================\n",
      "Dep. Variable:     PM10 Annual mean cleaned   R-squared:                       0.007\n",
      "Model:                                  OLS   Adj. R-squared:                  0.006\n",
      "Method:                       Least Squares   F-statistic:                     78.72\n",
      "Date:                      Sun, 09 Jul 2023   Prob (F-statistic):           8.18e-19\n",
      "Time:                              19:55:17   Log-Likelihood:                -57365.\n",
      "No. Observations:                     11959   AIC:                         1.147e+05\n",
      "Df Residuals:                         11957   BIC:                         1.147e+05\n",
      "Df Model:                                 1                                         \n",
      "Covariance Type:                  nonrobust                                         \n",
      "==============================================================================\n",
      "                 coef    std err          t      P>|t|      [0.025      0.975]\n",
      "------------------------------------------------------------------------------\n",
      "const       3479.4162    388.705      8.951      0.000    2717.491    4241.342\n",
      "Year          -1.7121      0.193     -8.872      0.000      -2.090      -1.334\n",
      "==============================================================================\n",
      "Omnibus:                     9784.993   Durbin-Watson:                   0.368\n",
      "Prob(Omnibus):                  0.000   Jarque-Bera (JB):           239987.204\n",
      "Skew:                           3.891   Prob(JB):                         0.00\n",
      "Kurtosis:                      23.520   Cond. No.                     2.92e+06\n",
      "==============================================================================\n",
      "\n",
      "Notes:\n",
      "[1] Standard Errors assume that the covariance matrix of the errors is correctly specified.\n",
      "[2] The condition number is large, 2.92e+06. This might indicate that there are\n",
      "strong multicollinearity or other numerical problems.\n"
     ]
    }
   ],
   "source": [
    "# Regression for PM2.5\n",
    "X = air_quality['Year'] \n",
    "Y = air_quality['PM2.5 Annual mean cleaned']\n",
    "\n",
    "X = sm.add_constant(X) # adding a constant\n",
    "\n",
    "model = sm.OLS(Y, X).fit()\n",
    "predictions = model.predict(X) \n",
    "\n",
    "print_model = model.summary()\n",
    "print(print_model)\n",
    "\n",
    "# Regression for PM10\n",
    "X = air_quality['Year'] \n",
    "Y = air_quality['PM10 Annual mean cleaned']\n",
    "\n",
    "X = sm.add_constant(X) # adding a constant\n",
    "\n",
    "model = sm.OLS(Y, X).fit()\n",
    "predictions = model.predict(X) \n",
    "\n",
    "print_model = model.summary()\n",
    "print(print_model)"
   ]
  },
  {
   "cell_type": "markdown",
   "id": "881dd1e1",
   "metadata": {},
   "source": [
    "## - Hypothesis 2:  The annual mean PM10 and PM2.5 levels vary significantly across different regions"
   ]
  },
  {
   "cell_type": "markdown",
   "id": "a203f91c",
   "metadata": {},
   "source": [
    " (ANOVA to compare pollutant levels across different regions/countries)"
   ]
  },
  {
   "cell_type": "code",
   "execution_count": 13,
   "id": "38770f68",
   "metadata": {},
   "outputs": [
    {
     "name": "stdout",
     "output_type": "stream",
     "text": [
      "PM2.5:\n",
      "F-value: 1726.7198812098432\n",
      "P-value: 0.0\n",
      "PM10:\n",
      "F-value: 2194.010446804022\n",
      "P-value: 0.0\n"
     ]
    }
   ],
   "source": [
    "# Group the data by geographical proximity\n",
    "grouped_data = air_quality.groupby('Geographical Proximity Group')\n",
    "\n",
    "# ANOVA for PM2.5\n",
    "fvalue, pvalue = stats.f_oneway(*[group['PM2.5 Annual mean cleaned'].dropna() for name, group in grouped_data])\n",
    "print('PM2.5:')\n",
    "print('F-value:', fvalue)\n",
    "print('P-value:', pvalue)\n",
    "\n",
    "# ANOVA for PM10\n",
    "fvalue, pvalue = stats.f_oneway(*[group['PM10 Annual mean cleaned'].dropna() for name, group in grouped_data])\n",
    "print('PM10:')\n",
    "print('F-value:', fvalue)\n",
    "print('P-value:', pvalue)\n"
   ]
  },
  {
   "cell_type": "markdown",
   "id": "89e0613e",
   "metadata": {},
   "source": [
    "#### Post-hoc Tukey HSD test"
   ]
  },
  {
   "cell_type": "code",
   "execution_count": 14,
   "id": "3313fcbc",
   "metadata": {
    "scrolled": true
   },
   "outputs": [
    {
     "data": {
      "text/html": [
       "<table class=\"simpletable\">\n",
       "<caption>Multiple Comparison of Means - Tukey HSD, FWER=0.05</caption>\n",
       "<tr>\n",
       "         <th>group1</th>                <th>group2</th>         <th>meandiff</th>  <th>p-adj</th>   <th>lower</th>    <th>upper</th>  <th>reject</th>\n",
       "</tr>\n",
       "<tr>\n",
       "         <td>Africa</td>               <td>Americas</td>        <td>-26.9285</td>   <td>0.0</td>  <td>-32.5179</td> <td>-21.3392</td>  <td>True</td> \n",
       "</tr>\n",
       "<tr>\n",
       "         <td>Africa</td>                 <td>Asia</td>           <td>18.0536</td>   <td>0.0</td>   <td>12.167</td>   <td>23.9401</td>  <td>True</td> \n",
       "</tr>\n",
       "<tr>\n",
       "         <td>Africa</td>         <td>Eastern Mediterranean</td>  <td>4.4845</td>  <td>0.2761</td>  <td>-1.5405</td>  <td>10.5095</td>  <td>False</td>\n",
       "</tr>\n",
       "<tr>\n",
       "         <td>Africa</td>                <td>Europe</td>         <td>-25.6225</td>   <td>0.0</td>  <td>-31.1713</td> <td>-20.0737</td>  <td>True</td> \n",
       "</tr>\n",
       "<tr>\n",
       "         <td>Africa</td>            <td>Western Pacific</td>     <td>0.1937</td>    <td>1.0</td>   <td>-5.4588</td>  <td>5.8462</td>   <td>False</td>\n",
       "</tr>\n",
       "<tr>\n",
       "        <td>Americas</td>                <td>Asia</td>           <td>44.9821</td>   <td>0.0</td>   <td>42.8426</td>  <td>47.1216</td>  <td>True</td> \n",
       "</tr>\n",
       "<tr>\n",
       "        <td>Americas</td>        <td>Eastern Mediterranean</td>  <td>31.413</td>    <td>0.0</td>   <td>28.9176</td>  <td>33.9084</td>  <td>True</td> \n",
       "</tr>\n",
       "<tr>\n",
       "        <td>Americas</td>               <td>Europe</td>           <td>1.306</td>  <td>0.0002</td>  <td>0.4604</td>   <td>2.1517</td>   <td>True</td> \n",
       "</tr>\n",
       "<tr>\n",
       "        <td>Americas</td>           <td>Western Pacific</td>     <td>27.1222</td>   <td>0.0</td>   <td>25.7522</td>  <td>28.4922</td>  <td>True</td> \n",
       "</tr>\n",
       "<tr>\n",
       "          <td>Asia</td>          <td>Eastern Mediterranean</td> <td>-13.5691</td>   <td>0.0</td>  <td>-16.6735</td> <td>-10.4647</td>  <td>True</td> \n",
       "</tr>\n",
       "<tr>\n",
       "          <td>Asia</td>                 <td>Europe</td>         <td>-43.6761</td>   <td>0.0</td>  <td>-45.7072</td> <td>-41.6449</td>  <td>True</td> \n",
       "</tr>\n",
       "<tr>\n",
       "          <td>Asia</td>             <td>Western Pacific</td>    <td>-17.8599</td>   <td>0.0</td>  <td>-20.1593</td> <td>-15.5604</td>  <td>True</td> \n",
       "</tr>\n",
       "<tr>\n",
       "  <td>Eastern Mediterranean</td>        <td>Europe</td>         <td>-30.1069</td>   <td>0.0</td>  <td>-32.5101</td> <td>-27.7038</td>  <td>True</td> \n",
       "</tr>\n",
       "<tr>\n",
       "  <td>Eastern Mediterranean</td>    <td>Western Pacific</td>     <td>-4.2908</td> <td>0.0001</td>  <td>-6.9246</td>  <td>-1.657</td>   <td>True</td> \n",
       "</tr>\n",
       "<tr>\n",
       "         <td>Europe</td>            <td>Western Pacific</td>     <td>25.8162</td>   <td>0.0</td>   <td>24.6224</td>  <td>27.0099</td>  <td>True</td> \n",
       "</tr>\n",
       "</table>"
      ],
      "text/latex": [
       "\\begin{center}\n",
       "\\begin{tabular}{ccccccc}\n",
       "\\toprule\n",
       "   \\textbf{group1}    &    \\textbf{group2}    & \\textbf{meandiff} & \\textbf{p-adj} & \\textbf{lower} & \\textbf{upper} & \\textbf{reject}  \\\\\n",
       "\\midrule\n",
       "        Africa        &        Americas       &      -26.9285     &      0.0       &    -32.5179    &    -21.3392    &       True       \\\\\n",
       "        Africa        &          Asia         &      18.0536      &      0.0       &     12.167     &    23.9401     &       True       \\\\\n",
       "        Africa        & Eastern Mediterranean &       4.4845      &     0.2761     &    -1.5405     &    10.5095     &      False       \\\\\n",
       "        Africa        &         Europe        &      -25.6225     &      0.0       &    -31.1713    &    -20.0737    &       True       \\\\\n",
       "        Africa        &    Western Pacific    &       0.1937      &      1.0       &    -5.4588     &     5.8462     &      False       \\\\\n",
       "       Americas       &          Asia         &      44.9821      &      0.0       &    42.8426     &    47.1216     &       True       \\\\\n",
       "       Americas       & Eastern Mediterranean &       31.413      &      0.0       &    28.9176     &    33.9084     &       True       \\\\\n",
       "       Americas       &         Europe        &       1.306       &     0.0002     &     0.4604     &     2.1517     &       True       \\\\\n",
       "       Americas       &    Western Pacific    &      27.1222      &      0.0       &    25.7522     &    28.4922     &       True       \\\\\n",
       "         Asia         & Eastern Mediterranean &      -13.5691     &      0.0       &    -16.6735    &    -10.4647    &       True       \\\\\n",
       "         Asia         &         Europe        &      -43.6761     &      0.0       &    -45.7072    &    -41.6449    &       True       \\\\\n",
       "         Asia         &    Western Pacific    &      -17.8599     &      0.0       &    -20.1593    &    -15.5604    &       True       \\\\\n",
       "Eastern Mediterranean &         Europe        &      -30.1069     &      0.0       &    -32.5101    &    -27.7038    &       True       \\\\\n",
       "Eastern Mediterranean &    Western Pacific    &      -4.2908      &     0.0001     &    -6.9246     &     -1.657     &       True       \\\\\n",
       "        Europe        &    Western Pacific    &      25.8162      &      0.0       &    24.6224     &    27.0099     &       True       \\\\\n",
       "\\bottomrule\n",
       "\\end{tabular}\n",
       "%\\caption{Multiple Comparison of Means - Tukey HSD, FWER=0.05}\n",
       "\\end{center}"
      ],
      "text/plain": [
       "<class 'statsmodels.iolib.table.SimpleTable'>"
      ]
     },
     "execution_count": 14,
     "metadata": {},
     "output_type": "execute_result"
    }
   ],
   "source": [
    "from statsmodels.stats.multicomp import pairwise_tukeyhsd\n",
    "\n",
    "# For example, after the ANOVA test on PM2.5 across different Geographiical groups\n",
    "tukey = pairwise_tukeyhsd(endog=air_quality['PM2.5 Annual mean cleaned'].dropna(),  # Data\n",
    "                          groups=air_quality['Geographical Proximity Group'],  # Groups\n",
    "                          alpha=0.05)  # Significance level\n",
    "\n",
    "tukey.summary()\n"
   ]
  },
  {
   "cell_type": "code",
   "execution_count": 20,
   "id": "e2b92550",
   "metadata": {},
   "outputs": [
    {
     "data": {
      "text/html": [
       "<table class=\"simpletable\">\n",
       "<caption>Multiple Comparison of Means - Tukey HSD, FWER=0.05</caption>\n",
       "<tr>\n",
       "         <th>group1</th>                <th>group2</th>         <th>meandiff</th>  <th>p-adj</th>   <th>lower</th>    <th>upper</th>  <th>reject</th>\n",
       "</tr>\n",
       "<tr>\n",
       "         <td>Africa</td>               <td>Americas</td>        <td>-59.1779</td>   <td>0.0</td>  <td>-69.2237</td> <td>-49.1321</td>  <td>True</td> \n",
       "</tr>\n",
       "<tr>\n",
       "         <td>Africa</td>                 <td>Asia</td>           <td>18.4074</td>   <td>0.0</td>   <td>7.8275</td>   <td>28.9873</td>  <td>True</td> \n",
       "</tr>\n",
       "<tr>\n",
       "         <td>Africa</td>         <td>Eastern Mediterranean</td>  <td>22.4812</td>   <td>0.0</td>   <td>11.6525</td>   <td>33.31</td>   <td>True</td> \n",
       "</tr>\n",
       "<tr>\n",
       "         <td>Africa</td>                <td>Europe</td>         <td>-64.1454</td>   <td>0.0</td>  <td>-74.1182</td> <td>-54.1725</td>  <td>True</td> \n",
       "</tr>\n",
       "<tr>\n",
       "         <td>Africa</td>            <td>Western Pacific</td>     <td>-15.608</td> <td>0.0002</td> <td>-25.7672</td>  <td>-5.4487</td>  <td>True</td> \n",
       "</tr>\n",
       "<tr>\n",
       "        <td>Americas</td>                <td>Asia</td>           <td>77.5853</td>   <td>0.0</td>   <td>73.7399</td>  <td>81.4307</td>  <td>True</td> \n",
       "</tr>\n",
       "<tr>\n",
       "        <td>Americas</td>        <td>Eastern Mediterranean</td>  <td>81.6591</td>   <td>0.0</td>   <td>77.1742</td>  <td>86.1441</td>  <td>True</td> \n",
       "</tr>\n",
       "<tr>\n",
       "        <td>Americas</td>               <td>Europe</td>          <td>-4.9675</td>   <td>0.0</td>   <td>-6.4874</td>  <td>-3.4476</td>  <td>True</td> \n",
       "</tr>\n",
       "<tr>\n",
       "        <td>Americas</td>           <td>Western Pacific</td>     <td>43.5699</td>   <td>0.0</td>   <td>41.1076</td>  <td>46.0322</td>  <td>True</td> \n",
       "</tr>\n",
       "<tr>\n",
       "          <td>Asia</td>          <td>Eastern Mediterranean</td>  <td>4.0738</td>  <td>0.2973</td>  <td>-1.5058</td>  <td>9.6534</td>   <td>False</td>\n",
       "</tr>\n",
       "<tr>\n",
       "          <td>Asia</td>                 <td>Europe</td>         <td>-82.5528</td>   <td>0.0</td>  <td>-86.2035</td> <td>-78.9021</td>  <td>True</td> \n",
       "</tr>\n",
       "<tr>\n",
       "          <td>Asia</td>             <td>Western Pacific</td>    <td>-34.0154</td>   <td>0.0</td>  <td>-38.1482</td> <td>-29.8825</td>  <td>True</td> \n",
       "</tr>\n",
       "<tr>\n",
       "  <td>Eastern Mediterranean</td>        <td>Europe</td>         <td>-86.6266</td>   <td>0.0</td>  <td>-90.9458</td> <td>-82.3075</td>  <td>True</td> \n",
       "</tr>\n",
       "<tr>\n",
       "  <td>Eastern Mediterranean</td>    <td>Western Pacific</td>    <td>-38.0892</td>   <td>0.0</td>  <td>-42.8229</td> <td>-33.3555</td>  <td>True</td> \n",
       "</tr>\n",
       "<tr>\n",
       "         <td>Europe</td>            <td>Western Pacific</td>     <td>48.5374</td>   <td>0.0</td>   <td>46.3919</td>  <td>50.683</td>   <td>True</td> \n",
       "</tr>\n",
       "</table>"
      ],
      "text/latex": [
       "\\begin{center}\n",
       "\\begin{tabular}{ccccccc}\n",
       "\\toprule\n",
       "   \\textbf{group1}    &    \\textbf{group2}    & \\textbf{meandiff} & \\textbf{p-adj} & \\textbf{lower} & \\textbf{upper} & \\textbf{reject}  \\\\\n",
       "\\midrule\n",
       "        Africa        &        Americas       &      -59.1779     &      0.0       &    -69.2237    &    -49.1321    &       True       \\\\\n",
       "        Africa        &          Asia         &      18.4074      &      0.0       &     7.8275     &    28.9873     &       True       \\\\\n",
       "        Africa        & Eastern Mediterranean &      22.4812      &      0.0       &    11.6525     &     33.31      &       True       \\\\\n",
       "        Africa        &         Europe        &      -64.1454     &      0.0       &    -74.1182    &    -54.1725    &       True       \\\\\n",
       "        Africa        &    Western Pacific    &      -15.608      &     0.0002     &    -25.7672    &    -5.4487     &       True       \\\\\n",
       "       Americas       &          Asia         &      77.5853      &      0.0       &    73.7399     &    81.4307     &       True       \\\\\n",
       "       Americas       & Eastern Mediterranean &      81.6591      &      0.0       &    77.1742     &    86.1441     &       True       \\\\\n",
       "       Americas       &         Europe        &      -4.9675      &      0.0       &    -6.4874     &    -3.4476     &       True       \\\\\n",
       "       Americas       &    Western Pacific    &      43.5699      &      0.0       &    41.1076     &    46.0322     &       True       \\\\\n",
       "         Asia         & Eastern Mediterranean &       4.0738      &     0.2973     &    -1.5058     &     9.6534     &      False       \\\\\n",
       "         Asia         &         Europe        &      -82.5528     &      0.0       &    -86.2035    &    -78.9021    &       True       \\\\\n",
       "         Asia         &    Western Pacific    &      -34.0154     &      0.0       &    -38.1482    &    -29.8825    &       True       \\\\\n",
       "Eastern Mediterranean &         Europe        &      -86.6266     &      0.0       &    -90.9458    &    -82.3075    &       True       \\\\\n",
       "Eastern Mediterranean &    Western Pacific    &      -38.0892     &      0.0       &    -42.8229    &    -33.3555    &       True       \\\\\n",
       "        Europe        &    Western Pacific    &      48.5374      &      0.0       &    46.3919     &     50.683     &       True       \\\\\n",
       "\\bottomrule\n",
       "\\end{tabular}\n",
       "%\\caption{Multiple Comparison of Means - Tukey HSD, FWER=0.05}\n",
       "\\end{center}"
      ],
      "text/plain": [
       "<class 'statsmodels.iolib.table.SimpleTable'>"
      ]
     },
     "execution_count": 20,
     "metadata": {},
     "output_type": "execute_result"
    }
   ],
   "source": [
    "from statsmodels.stats.multicomp import pairwise_tukeyhsd\n",
    "\n",
    "# For example, after the ANOVA test on PM2.5 across different Geographiical groups\n",
    "tukey = pairwise_tukeyhsd(endog=air_quality['PM10 Annual mean cleaned'].dropna(),  # Data\n",
    "                          groups=air_quality['Geographical Proximity Group'],  # Groups\n",
    "                          alpha=0.05)  # Significance level\n",
    "\n",
    "tukey.summary()"
   ]
  },
  {
   "cell_type": "code",
   "execution_count": null,
   "id": "cea7d514",
   "metadata": {},
   "outputs": [],
   "source": []
  }
 ],
 "metadata": {
  "kernelspec": {
   "display_name": "Python 3 (ipykernel)",
   "language": "python",
   "name": "python3"
  },
  "language_info": {
   "codemirror_mode": {
    "name": "ipython",
    "version": 3
   },
   "file_extension": ".py",
   "mimetype": "text/x-python",
   "name": "python",
   "nbconvert_exporter": "python",
   "pygments_lexer": "ipython3",
   "version": "3.9.12"
  }
 },
 "nbformat": 4,
 "nbformat_minor": 5
}
