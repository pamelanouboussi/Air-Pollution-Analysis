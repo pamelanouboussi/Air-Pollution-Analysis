{
 "cells": [
  {
   "cell_type": "markdown",
   "id": "63fee7a2",
   "metadata": {},
   "source": [
    "# Table of contents\n",
    "\n",
    "### 1. Importing libraries and df\n",
    "### 2. Data check\n",
    "### 3. Kmeans clustering\n",
    "### 4. Descriptive statistics\n",
    "### 5. Next steps"
   ]
  },
  {
   "cell_type": "markdown",
   "id": "50b1475e",
   "metadata": {},
   "source": [
    "## 1. Importing libraries and df"
   ]
  },
  {
   "cell_type": "code",
   "execution_count": 1,
   "id": "7e35256e",
   "metadata": {},
   "outputs": [],
   "source": [
    "import pandas as pd\n",
    "import numpy as np\n",
    "import seaborn as sns\n",
    "import matplotlib\n",
    "import matplotlib.pyplot as plt\n",
    "import os\n",
    "import sklearn\n",
    "from sklearn.cluster import KMeans # Here is where you import the k-means algorithm from scikit-learn.\n",
    "import pylab as pl # PyLab is a convenience module that bulk imports matplotlib."
   ]
  },
  {
   "cell_type": "code",
   "execution_count": 2,
   "id": "d7a0af84",
   "metadata": {},
   "outputs": [],
   "source": [
    "# This option ensures the graphs you create are displayed in your notebook without the need to \"call\" them specifically.\n",
    "\n",
    "%matplotlib inline"
   ]
  },
  {
   "cell_type": "code",
   "execution_count": 3,
   "id": "49c73001",
   "metadata": {},
   "outputs": [],
   "source": [
    "# Define the folder path as a string\n",
    "path = r'/Users/pamnouboussi/22.06.23 Achiev 6'"
   ]
  },
  {
   "cell_type": "code",
   "execution_count": 4,
   "id": "67c6ad18",
   "metadata": {},
   "outputs": [],
   "source": [
    "# Read the CSV file into a DataFrame and set the index column\n",
    "air_quality = pd.read_csv(os.path.join(path, 'Data', 'Prepared Data', 'air_quality_cleaned_updated_wrangled.csv'), index_col=0)"
   ]
  },
  {
   "cell_type": "markdown",
   "id": "e5510143",
   "metadata": {},
   "source": [
    "## 2.Data check"
   ]
  },
  {
   "cell_type": "code",
   "execution_count": 5,
   "id": "ad08a75f",
   "metadata": {},
   "outputs": [
    {
     "name": "stdout",
     "output_type": "stream",
     "text": [
      "<class 'pandas.core.frame.DataFrame'>\n",
      "Int64Index: 11959 entries, 0 to 11961\n",
      "Data columns (total 8 columns):\n",
      " #   Column                                  Non-Null Count  Dtype  \n",
      "---  ------                                  --------------  -----  \n",
      " 0   Region                                  11959 non-null  object \n",
      " 1   Country                                 11959 non-null  object \n",
      " 2   City/Town                               11959 non-null  object \n",
      " 3   Year                                    11959 non-null  int64  \n",
      " 4   Number and type of monitoring stations  11891 non-null  object \n",
      " 5   PM2.5 Annual mean cleaned               11959 non-null  float64\n",
      " 6   PM10 Annual mean cleaned                11959 non-null  float64\n",
      " 7   Number of monitoring stations           11543 non-null  float64\n",
      "dtypes: float64(3), int64(1), object(4)\n",
      "memory usage: 840.9+ KB\n"
     ]
    }
   ],
   "source": [
    "air_quality.info()"
   ]
  },
  {
   "cell_type": "code",
   "execution_count": 6,
   "id": "396b8fa6",
   "metadata": {},
   "outputs": [
    {
     "data": {
      "text/html": [
       "<div>\n",
       "<style scoped>\n",
       "    .dataframe tbody tr th:only-of-type {\n",
       "        vertical-align: middle;\n",
       "    }\n",
       "\n",
       "    .dataframe tbody tr th {\n",
       "        vertical-align: top;\n",
       "    }\n",
       "\n",
       "    .dataframe thead th {\n",
       "        text-align: right;\n",
       "    }\n",
       "</style>\n",
       "<table border=\"1\" class=\"dataframe\">\n",
       "  <thead>\n",
       "    <tr style=\"text-align: right;\">\n",
       "      <th></th>\n",
       "      <th>Region</th>\n",
       "      <th>Country</th>\n",
       "      <th>City/Town</th>\n",
       "      <th>Year</th>\n",
       "      <th>Number and type of monitoring stations</th>\n",
       "      <th>PM2.5 Annual mean cleaned</th>\n",
       "      <th>PM10 Annual mean cleaned</th>\n",
       "      <th>Number of monitoring stations</th>\n",
       "    </tr>\n",
       "  </thead>\n",
       "  <tbody>\n",
       "    <tr>\n",
       "      <th>0</th>\n",
       "      <td>Europe (LMIC)</td>\n",
       "      <td>Albania</td>\n",
       "      <td>Korce</td>\n",
       "      <td>2015</td>\n",
       "      <td>1 Suburban-Background</td>\n",
       "      <td>30.0</td>\n",
       "      <td>45.0</td>\n",
       "      <td>1.0</td>\n",
       "    </tr>\n",
       "    <tr>\n",
       "      <th>1</th>\n",
       "      <td>Europe (LMIC)</td>\n",
       "      <td>Albania</td>\n",
       "      <td>Korce</td>\n",
       "      <td>2016</td>\n",
       "      <td>1 Suburban-Background</td>\n",
       "      <td>29.0</td>\n",
       "      <td>40.0</td>\n",
       "      <td>1.0</td>\n",
       "    </tr>\n",
       "    <tr>\n",
       "      <th>2</th>\n",
       "      <td>Europe (LMIC)</td>\n",
       "      <td>Albania</td>\n",
       "      <td>Tirana</td>\n",
       "      <td>2013</td>\n",
       "      <td>1 station, traffic, urban</td>\n",
       "      <td>16.0</td>\n",
       "      <td>32.0</td>\n",
       "      <td>1.0</td>\n",
       "    </tr>\n",
       "    <tr>\n",
       "      <th>3</th>\n",
       "      <td>Europe (LMIC)</td>\n",
       "      <td>Albania</td>\n",
       "      <td>Vlore</td>\n",
       "      <td>2014</td>\n",
       "      <td>1 Urban-Background</td>\n",
       "      <td>10.0</td>\n",
       "      <td>15.0</td>\n",
       "      <td>1.0</td>\n",
       "    </tr>\n",
       "    <tr>\n",
       "      <th>4</th>\n",
       "      <td>Europe (LMIC)</td>\n",
       "      <td>Albania</td>\n",
       "      <td>Vlore</td>\n",
       "      <td>2015</td>\n",
       "      <td>1 Urban-Background</td>\n",
       "      <td>13.0</td>\n",
       "      <td>19.0</td>\n",
       "      <td>1.0</td>\n",
       "    </tr>\n",
       "  </tbody>\n",
       "</table>\n",
       "</div>"
      ],
      "text/plain": [
       "          Region  Country City/Town  Year  \\\n",
       "0  Europe (LMIC)  Albania     Korce  2015   \n",
       "1  Europe (LMIC)  Albania     Korce  2016   \n",
       "2  Europe (LMIC)  Albania    Tirana  2013   \n",
       "3  Europe (LMIC)  Albania     Vlore  2014   \n",
       "4  Europe (LMIC)  Albania     Vlore  2015   \n",
       "\n",
       "  Number and type of monitoring stations  PM2.5 Annual mean cleaned  \\\n",
       "0                  1 Suburban-Background                       30.0   \n",
       "1                  1 Suburban-Background                       29.0   \n",
       "2              1 station, traffic, urban                       16.0   \n",
       "3                     1 Urban-Background                       10.0   \n",
       "4                     1 Urban-Background                       13.0   \n",
       "\n",
       "   PM10 Annual mean cleaned  Number of monitoring stations  \n",
       "0                      45.0                            1.0  \n",
       "1                      40.0                            1.0  \n",
       "2                      32.0                            1.0  \n",
       "3                      15.0                            1.0  \n",
       "4                      19.0                            1.0  "
      ]
     },
     "execution_count": 6,
     "metadata": {},
     "output_type": "execute_result"
    }
   ],
   "source": [
    "air_quality.head()"
   ]
  },
  {
   "cell_type": "markdown",
   "id": "aff88868",
   "metadata": {},
   "source": [
    "elbow method"
   ]
  },
  {
   "cell_type": "code",
   "execution_count": 8,
   "id": "14b91f26",
   "metadata": {},
   "outputs": [],
   "source": [
    "# Create subset of df to use for clustering, removing categorical variables\n",
    "selected_columns = ['PM2.5 Annual mean cleaned', 'PM10 Annual mean cleaned']\n",
    "subset_df = air_quality[selected_columns]"
   ]
  },
  {
   "cell_type": "code",
   "execution_count": 9,
   "id": "85eaa5bb",
   "metadata": {},
   "outputs": [],
   "source": [
    "# Defines the range of potential clusters in the data.\n",
    "num_cl = range(1, 10) \n",
    "\n",
    "# Defines k-means clusters in the range assigned above.\n",
    "kmeans = [KMeans(n_clusters=i) for i in num_cl]"
   ]
  },
  {
   "cell_type": "code",
   "execution_count": 11,
   "id": "a26d3c30",
   "metadata": {},
   "outputs": [
    {
     "data": {
      "text/plain": [
       "[-13214395.8585166,\n",
       " -4515544.572799923,\n",
       " -2598049.2841983833,\n",
       " -1625465.88827006,\n",
       " -1166108.8381491157,\n",
       " -915105.4021909339,\n",
       " -760547.193239512,\n",
       " -639925.8452173148,\n",
       " -555837.743421253]"
      ]
     },
     "execution_count": 11,
     "metadata": {},
     "output_type": "execute_result"
    }
   ],
   "source": [
    "# Create a score that represents a rate of variation for the given cluster option.\n",
    "score = [kmeans[i].fit(subset_df).score(subset_df) for i in range(len(kmeans))] \n",
    "\n",
    "score"
   ]
  },
  {
   "cell_type": "code",
   "execution_count": 12,
   "id": "d0ef4b4d",
   "metadata": {},
   "outputs": [
    {
     "data": {
      "image/png": "[encoded data removed]",
      "text/plain": [
       "<Figure size 432x288 with 1 Axes>"
      ]
     },
     "metadata": {
      "needs_background": "light"
     },
     "output_type": "display_data"
    }
   ],
   "source": [
    "# Plot the elbow curve using PyLab.\n",
    "\n",
    "pl.plot(num_cl,score)\n",
    "pl.xlabel('Number of Clusters')\n",
    "pl.ylabel('Score')\n",
    "pl.title('Elbow Curve')\n",
    "pl.show()"
   ]
  },
  {
   "cell_type": "markdown",
   "id": "32379d20",
   "metadata": {},
   "source": [
    "The optimal number of clusters would be 3 "
   ]
  },
  {
   "cell_type": "markdown",
   "id": "a968a7ad",
   "metadata": {},
   "source": [
    "## 3.K means clustering"
   ]
  },
  {
   "cell_type": "code",
   "execution_count": 13,
   "id": "d3ac453c",
   "metadata": {},
   "outputs": [],
   "source": [
    "# Create the k-means object.\n",
    "\n",
    "kmeans = KMeans(n_clusters = 3)"
   ]
  },
  {
   "cell_type": "code",
   "execution_count": 14,
   "id": "3ea16b1d",
   "metadata": {},
   "outputs": [
    {
     "data": {
      "text/plain": [
       "KMeans(n_clusters=3)"
      ]
     },
     "execution_count": 14,
     "metadata": {},
     "output_type": "execute_result"
    }
   ],
   "source": [
    "# Fit the k-means object to the data.\n",
    "\n",
    "kmeans.fit(subset_df)"
   ]
  },
  {
   "cell_type": "code",
   "execution_count": 20,
   "id": "3580130d",
   "metadata": {},
   "outputs": [
    {
     "name": "stderr",
     "output_type": "stream",
     "text": [
      "/var/folders/0z/t3bl92zd6hq1w5_vfd3ll2dw0000gn/T/ipykernel_70120/701907175.py:1: SettingWithCopyWarning: \n",
      "A value is trying to be set on a copy of a slice from a DataFrame.\n",
      "Try using .loc[row_indexer,col_indexer] = value instead\n",
      "\n",
      "See the caveats in the documentation: https://pandas.pydata.org/pandas-docs/stable/user_guide/indexing.html#returning-a-view-versus-a-copy\n",
      "  subset_df ['clusters'] = kmeans.fit_predict(subset_df)\n"
     ]
    }
   ],
   "source": [
    "subset_df ['clusters'] = kmeans.fit_predict(subset_df)"
   ]
  },
  {
   "cell_type": "code",
   "execution_count": 28,
   "id": "6d733c3e",
   "metadata": {},
   "outputs": [],
   "source": [
    "#perform k means clusturing on subset of df\n",
    "# Add the cluster labels to the original DataFrame\n",
    "\n",
    "num_clusters = 3  # Define the number of clusters you want\n",
    "kmeans = KMeans(n_clusters=num_clusters)\n",
    "cluster_labels = kmeans.fit_predict(subset_df)\n",
    "\n",
    "air_quality['Clusters'] = cluster_labels"
   ]
  },
  {
   "cell_type": "code",
   "execution_count": 23,
   "id": "370d647f",
   "metadata": {},
   "outputs": [
    {
     "data": {
      "text/html": [
       "<div>\n",
       "<style scoped>\n",
       "    .dataframe tbody tr th:only-of-type {\n",
       "        vertical-align: middle;\n",
       "    }\n",
       "\n",
       "    .dataframe tbody tr th {\n",
       "        vertical-align: top;\n",
       "    }\n",
       "\n",
       "    .dataframe thead th {\n",
       "        text-align: right;\n",
       "    }\n",
       "</style>\n",
       "<table border=\"1\" class=\"dataframe\">\n",
       "  <thead>\n",
       "    <tr style=\"text-align: right;\">\n",
       "      <th></th>\n",
       "      <th>Region</th>\n",
       "      <th>Country</th>\n",
       "      <th>City/Town</th>\n",
       "      <th>Year</th>\n",
       "      <th>Number and type of monitoring stations</th>\n",
       "      <th>PM2.5 Annual mean cleaned</th>\n",
       "      <th>PM10 Annual mean cleaned</th>\n",
       "      <th>Number of monitoring stations</th>\n",
       "      <th>Cluster</th>\n",
       "    </tr>\n",
       "  </thead>\n",
       "  <tbody>\n",
       "    <tr>\n",
       "      <th>0</th>\n",
       "      <td>Europe (LMIC)</td>\n",
       "      <td>Albania</td>\n",
       "      <td>Korce</td>\n",
       "      <td>2015</td>\n",
       "      <td>1 Suburban-Background</td>\n",
       "      <td>30.0</td>\n",
       "      <td>45.0</td>\n",
       "      <td>1.0</td>\n",
       "      <td>2</td>\n",
       "    </tr>\n",
       "    <tr>\n",
       "      <th>1</th>\n",
       "      <td>Europe (LMIC)</td>\n",
       "      <td>Albania</td>\n",
       "      <td>Korce</td>\n",
       "      <td>2016</td>\n",
       "      <td>1 Suburban-Background</td>\n",
       "      <td>29.0</td>\n",
       "      <td>40.0</td>\n",
       "      <td>1.0</td>\n",
       "      <td>0</td>\n",
       "    </tr>\n",
       "    <tr>\n",
       "      <th>2</th>\n",
       "      <td>Europe (LMIC)</td>\n",
       "      <td>Albania</td>\n",
       "      <td>Tirana</td>\n",
       "      <td>2013</td>\n",
       "      <td>1 station, traffic, urban</td>\n",
       "      <td>16.0</td>\n",
       "      <td>32.0</td>\n",
       "      <td>1.0</td>\n",
       "      <td>0</td>\n",
       "    </tr>\n",
       "    <tr>\n",
       "      <th>3</th>\n",
       "      <td>Europe (LMIC)</td>\n",
       "      <td>Albania</td>\n",
       "      <td>Vlore</td>\n",
       "      <td>2014</td>\n",
       "      <td>1 Urban-Background</td>\n",
       "      <td>10.0</td>\n",
       "      <td>15.0</td>\n",
       "      <td>1.0</td>\n",
       "      <td>0</td>\n",
       "    </tr>\n",
       "    <tr>\n",
       "      <th>4</th>\n",
       "      <td>Europe (LMIC)</td>\n",
       "      <td>Albania</td>\n",
       "      <td>Vlore</td>\n",
       "      <td>2015</td>\n",
       "      <td>1 Urban-Background</td>\n",
       "      <td>13.0</td>\n",
       "      <td>19.0</td>\n",
       "      <td>1.0</td>\n",
       "      <td>0</td>\n",
       "    </tr>\n",
       "  </tbody>\n",
       "</table>\n",
       "</div>"
      ],
      "text/plain": [
       "          Region  Country City/Town  Year  \\\n",
       "0  Europe (LMIC)  Albania     Korce  2015   \n",
       "1  Europe (LMIC)  Albania     Korce  2016   \n",
       "2  Europe (LMIC)  Albania    Tirana  2013   \n",
       "3  Europe (LMIC)  Albania     Vlore  2014   \n",
       "4  Europe (LMIC)  Albania     Vlore  2015   \n",
       "\n",
       "  Number and type of monitoring stations  PM2.5 Annual mean cleaned  \\\n",
       "0                  1 Suburban-Background                       30.0   \n",
       "1                  1 Suburban-Background                       29.0   \n",
       "2              1 station, traffic, urban                       16.0   \n",
       "3                     1 Urban-Background                       10.0   \n",
       "4                     1 Urban-Background                       13.0   \n",
       "\n",
       "   PM10 Annual mean cleaned  Number of monitoring stations  Cluster  \n",
       "0                      45.0                            1.0        2  \n",
       "1                      40.0                            1.0        0  \n",
       "2                      32.0                            1.0        0  \n",
       "3                      15.0                            1.0        0  \n",
       "4                      19.0                            1.0        0  "
      ]
     },
     "execution_count": 23,
     "metadata": {},
     "output_type": "execute_result"
    }
   ],
   "source": [
    "#errorcheck\n",
    "air_quality.head()"
   ]
  },
  {
   "cell_type": "code",
   "execution_count": 29,
   "id": "cf5de6e6",
   "metadata": {},
   "outputs": [
    {
     "data": {
      "text/plain": [
       "0    10214\n",
       "2     1409\n",
       "1      336\n",
       "Name: Clusters, dtype: int64"
      ]
     },
     "execution_count": 29,
     "metadata": {},
     "output_type": "execute_result"
    }
   ],
   "source": [
    "#\n",
    "air_quality['Clusters'].value_counts()"
   ]
  },
  {
   "cell_type": "code",
   "execution_count": 36,
   "id": "8a0491a5",
   "metadata": {},
   "outputs": [
    {
     "data": {
      "image/png": "[encoded data removed]",
      "text/plain": [
       "<Figure size 864x576 with 1 Axes>"
      ]
     },
     "metadata": {
      "needs_background": "light"
     },
     "output_type": "display_data"
    }
   ],
   "source": [
    "#plot the clusters\n",
    "\n",
    "plt.figure(figsize=(12,8))\n",
    "ax = sns.scatterplot(x=air_quality['PM2.5 Annual mean cleaned'], y=air_quality['PM10 Annual mean cleaned'], hue=kmeans.labels_, s=100) \n",
    "# Here, you're subsetting `X` for the x and y arguments to avoid using their labels. \n",
    "# `hue` takes the value of the attribute `kmeans.labels_`, which is the result of running the k-means algorithm.\n",
    "# `s` represents the size of the points you want to see in the plot.\n",
    "\n",
    "ax.grid(False) # This removes the grid from the background.\n",
    "plt.xlabel('PM2.5 Annual mean cleaned') # Label x-axis.\n",
    "plt.ylabel('PM10 Annual mean cleaned') # Label y-axis.\n",
    "plt.show()"
   ]
  },
  {
   "cell_type": "markdown",
   "id": "266ec1d6",
   "metadata": {},
   "source": []
  },
  {
   "cell_type": "markdown",
   "id": "2ea01eaa",
   "metadata": {},
   "source": [
    "## 4. Descriptive statistics"
   ]
  },
  {
   "cell_type": "code",
   "execution_count": 40,
   "id": "177db039",
   "metadata": {},
   "outputs": [
    {
     "name": "stderr",
     "output_type": "stream",
     "text": [
      "/var/folders/0z/t3bl92zd6hq1w5_vfd3ll2dw0000gn/T/ipykernel_70120/4072214854.py:5: FutureWarning: Indexing with multiple keys (implicitly converted to a tuple of keys) will be deprecated, use a list instead.\n",
      "  cluster_stats = cluster_groups['PM2.5 Annual mean cleaned', 'PM10 Annual mean cleaned'].describe()\n"
     ]
    }
   ],
   "source": [
    "# Group the data by cluster\n",
    "cluster_groups = air_quality.groupby('Cluster')\n",
    "\n",
    "# Calculate descriptive statistics for each cluster\n",
    "cluster_stats = cluster_groups['PM2.5 Annual mean cleaned', 'PM10 Annual mean cleaned'].describe()"
   ]
  },
  {
   "cell_type": "code",
   "execution_count": 41,
   "id": "7b5853a7",
   "metadata": {},
   "outputs": [
    {
     "data": {
      "text/html": [
       "<div>\n",
       "<style scoped>\n",
       "    .dataframe tbody tr th:only-of-type {\n",
       "        vertical-align: middle;\n",
       "    }\n",
       "\n",
       "    .dataframe tbody tr th {\n",
       "        vertical-align: top;\n",
       "    }\n",
       "\n",
       "    .dataframe thead tr th {\n",
       "        text-align: left;\n",
       "    }\n",
       "\n",
       "    .dataframe thead tr:last-of-type th {\n",
       "        text-align: right;\n",
       "    }\n",
       "</style>\n",
       "<table border=\"1\" class=\"dataframe\">\n",
       "  <thead>\n",
       "    <tr>\n",
       "      <th></th>\n",
       "      <th colspan=\"8\" halign=\"left\">PM2.5 Annual mean cleaned</th>\n",
       "      <th colspan=\"8\" halign=\"left\">PM10 Annual mean cleaned</th>\n",
       "    </tr>\n",
       "    <tr>\n",
       "      <th></th>\n",
       "      <th>count</th>\n",
       "      <th>mean</th>\n",
       "      <th>std</th>\n",
       "      <th>min</th>\n",
       "      <th>25%</th>\n",
       "      <th>50%</th>\n",
       "      <th>75%</th>\n",
       "      <th>max</th>\n",
       "      <th>count</th>\n",
       "      <th>mean</th>\n",
       "      <th>std</th>\n",
       "      <th>min</th>\n",
       "      <th>25%</th>\n",
       "      <th>50%</th>\n",
       "      <th>75%</th>\n",
       "      <th>max</th>\n",
       "    </tr>\n",
       "    <tr>\n",
       "      <th>Cluster</th>\n",
       "      <th></th>\n",
       "      <th></th>\n",
       "      <th></th>\n",
       "      <th></th>\n",
       "      <th></th>\n",
       "      <th></th>\n",
       "      <th></th>\n",
       "      <th></th>\n",
       "      <th></th>\n",
       "      <th></th>\n",
       "      <th></th>\n",
       "      <th></th>\n",
       "      <th></th>\n",
       "      <th></th>\n",
       "      <th></th>\n",
       "      <th></th>\n",
       "    </tr>\n",
       "  </thead>\n",
       "  <tbody>\n",
       "    <tr>\n",
       "      <th>0</th>\n",
       "      <td>10214.0</td>\n",
       "      <td>13.279127</td>\n",
       "      <td>5.400001</td>\n",
       "      <td>1.0</td>\n",
       "      <td>9.0</td>\n",
       "      <td>13.0</td>\n",
       "      <td>16.0</td>\n",
       "      <td>34.0</td>\n",
       "      <td>10214.0</td>\n",
       "      <td>21.387801</td>\n",
       "      <td>7.685567</td>\n",
       "      <td>1.0</td>\n",
       "      <td>16.0</td>\n",
       "      <td>20.0</td>\n",
       "      <td>25.0</td>\n",
       "      <td>52.0</td>\n",
       "    </tr>\n",
       "    <tr>\n",
       "      <th>1</th>\n",
       "      <td>336.0</td>\n",
       "      <td>82.229167</td>\n",
       "      <td>26.524973</td>\n",
       "      <td>21.0</td>\n",
       "      <td>65.0</td>\n",
       "      <td>76.0</td>\n",
       "      <td>93.0</td>\n",
       "      <td>197.0</td>\n",
       "      <td>336.0</td>\n",
       "      <td>160.982143</td>\n",
       "      <td>46.577424</td>\n",
       "      <td>108.0</td>\n",
       "      <td>126.0</td>\n",
       "      <td>144.5</td>\n",
       "      <td>184.5</td>\n",
       "      <td>329.0</td>\n",
       "    </tr>\n",
       "    <tr>\n",
       "      <th>2</th>\n",
       "      <td>1409.0</td>\n",
       "      <td>37.179560</td>\n",
       "      <td>12.184646</td>\n",
       "      <td>9.0</td>\n",
       "      <td>28.0</td>\n",
       "      <td>34.0</td>\n",
       "      <td>45.0</td>\n",
       "      <td>84.0</td>\n",
       "      <td>1409.0</td>\n",
       "      <td>67.377573</td>\n",
       "      <td>19.319295</td>\n",
       "      <td>41.0</td>\n",
       "      <td>51.0</td>\n",
       "      <td>63.0</td>\n",
       "      <td>81.0</td>\n",
       "      <td>130.0</td>\n",
       "    </tr>\n",
       "  </tbody>\n",
       "</table>\n",
       "</div>"
      ],
      "text/plain": [
       "        PM2.5 Annual mean cleaned                                          \\\n",
       "                            count       mean        std   min   25%   50%   \n",
       "Cluster                                                                     \n",
       "0                         10214.0  13.279127   5.400001   1.0   9.0  13.0   \n",
       "1                           336.0  82.229167  26.524973  21.0  65.0  76.0   \n",
       "2                          1409.0  37.179560  12.184646   9.0  28.0  34.0   \n",
       "\n",
       "                     PM10 Annual mean cleaned                                \\\n",
       "          75%    max                    count        mean        std    min   \n",
       "Cluster                                                                       \n",
       "0        16.0   34.0                  10214.0   21.387801   7.685567    1.0   \n",
       "1        93.0  197.0                    336.0  160.982143  46.577424  108.0   \n",
       "2        45.0   84.0                   1409.0   67.377573  19.319295   41.0   \n",
       "\n",
       "                                     \n",
       "           25%    50%    75%    max  \n",
       "Cluster                              \n",
       "0         16.0   20.0   25.0   52.0  \n",
       "1        126.0  144.5  184.5  329.0  \n",
       "2         51.0   63.0   81.0  130.0  "
      ]
     },
     "execution_count": 41,
     "metadata": {},
     "output_type": "execute_result"
    }
   ],
   "source": [
    "# Group data by cluster\n",
    "cluster_groups = air_quality.groupby('Cluster')\n",
    "\n",
    "# Select the columns for descriptive stats\n",
    "selected_columns = ['PM2.5 Annual mean cleaned', 'PM10 Annual mean cleaned']\n",
    "\n",
    "# Calculate descriptive stats for each cluster\n",
    "cluster_stats = cluster_groups[selected_columns].describe()\n",
    "\n",
    "# Print the descriptive stas\n",
    "cluster_stats\n"
   ]
  },
  {
   "cell_type": "markdown",
   "id": "fe02fd83",
   "metadata": {},
   "source": [
    "## 5. Next steps: Propose what these results could be useful for in future steps of an analytics pipeline.\n",
    "\n",
    "#### - They allow us to undertand the average and variability of the variables within each cluster. we can use this to characterise each cluster based on air quality levels. Cluster 1 exhibits higher levels of PM2.5 and PM10 compared to the other clusters, indicating potentially worse air quality.\n",
    "\n",
    "#### - Outliers can be identied by looking at the minum and maximum values for variables within each cluster\n",
    "\n",
    "#### - Clusters can be compared. Cluster 1 has substantially higher mean values for both PM2.5 and PM10 compared to the other clusters. comparisons between the clusters will help us identify clusters with similar or disimilar paterns.\n"
   ]
  },
  {
   "cell_type": "code",
   "execution_count": null,
   "id": "6f793f11",
   "metadata": {},
   "outputs": [],
   "source": []
  }
 ],
 "metadata": {
  "kernelspec": {
   "display_name": "Python 3 (ipykernel)",
   "language": "python",
   "name": "python3"
  },
  "language_info": {
   "codemirror_mode": {
    "name": "ipython",
    "version": 3
   },
   "file_extension": ".py",
   "mimetype": "text/x-python",
   "name": "python",
   "nbconvert_exporter": "python",
   "pygments_lexer": "ipython3",
   "version": "3.9.12"
  }
 },
 "nbformat": 4,
 "nbformat_minor": 5
}
